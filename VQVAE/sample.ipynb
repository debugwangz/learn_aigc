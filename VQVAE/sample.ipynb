{
 "cells": [
  {
   "cell_type": "code",
   "id": "initial_id",
   "metadata": {
    "collapsed": true,
    "ExecuteTime": {
     "end_time": "2025-06-11T12:25:31.166316Z",
     "start_time": "2025-06-11T12:25:31.153109Z"
    }
   },
   "source": [
    "import torch\n",
    "import numpy as np\n",
    "import random\n",
    "from torch.utils.data import Dataset, DataLoader\n",
    "from scipy.io import loadmat\n",
    "from torch import nn\n",
    "from vqvae import VQVAE\n",
    "from pixcnn import PixelCNN, PixelCNNWithEmbedding"
   ],
   "outputs": [],
   "execution_count": 28
  },
  {
   "metadata": {
    "ExecuteTime": {
     "end_time": "2025-06-11T12:25:31.514581Z",
     "start_time": "2025-06-11T12:25:31.504974Z"
    }
   },
   "cell_type": "code",
   "source": [
    "def set_seed(seed):\n",
    "    random.seed(seed)\n",
    "    np.random.seed(seed)\n",
    "    torch.manual_seed(seed)\n",
    "    if torch.cuda.is_available():\n",
    "        torch.cuda.manual_seed(seed)\n",
    "        torch.cuda.manual_seed_all(seed)\n",
    "    torch.backends.cudnn.deterministic = True\n",
    "    torch.backends.cudnn.benchmark = False\n",
    "\n",
    "# Set the seed\n",
    "set_seed(42)\n",
    "device = 'cuda' if torch.cuda.is_available() else 'cpu'\n"
   ],
   "id": "9b7d32d2b6e5fe4a",
   "outputs": [],
   "execution_count": 29
  },
  {
   "metadata": {
    "ExecuteTime": {
     "end_time": "2025-06-11T12:25:31.847558Z",
     "start_time": "2025-06-11T12:25:31.843557Z"
    }
   },
   "cell_type": "code",
   "source": [
    "class MNISTDataset(Dataset):\n",
    "    def __init__(self, data, label, transform=None):\n",
    "        self.data = data\n",
    "        self.label = label\n",
    "        self.transform = transform\n",
    "    def __len__(self):\n",
    "        return len(self.data)\n",
    "\n",
    "    def __getitem__(self, idx):\n",
    "        return self.transform(self.data[idx]), self.label[idx]"
   ],
   "id": "1ed697aa6b5162f2",
   "outputs": [],
   "execution_count": 30
  },
  {
   "metadata": {
    "ExecuteTime": {
     "end_time": "2025-06-11T12:25:33.015991Z",
     "start_time": "2025-06-11T12:25:32.802448Z"
    }
   },
   "cell_type": "code",
   "source": [
    "mnist = loadmat(\"../mnist-original.mat/mnist-original.mat\")\n",
    "mnist_data = mnist[\"data\"].T\n",
    "mnist_label = mnist[\"label\"][0]"
   ],
   "id": "23b29e071c176ac0",
   "outputs": [],
   "execution_count": 31
  },
  {
   "metadata": {
    "ExecuteTime": {
     "end_time": "2025-06-11T12:25:33.231513Z",
     "start_time": "2025-06-11T12:25:33.228333Z"
    }
   },
   "cell_type": "code",
   "source": [
    "EPOCHS = 100\n",
    "batch_size = 64\n",
    "num_workers = 8\n",
    "lr = 1e-3\n",
    "beta = 0.25\n",
    "n_embedding = 32\n",
    "embedding_dim = 32\n"
   ],
   "id": "14fbff80a4280cde",
   "outputs": [],
   "execution_count": 32
  },
  {
   "metadata": {
    "ExecuteTime": {
     "end_time": "2025-06-11T12:25:35.186706Z",
     "start_time": "2025-06-11T12:25:35.128437Z"
    }
   },
   "cell_type": "code",
   "source": [
    "model_vqvae = VQVAE(input_dim=1, dim=embedding_dim, n_embedding=n_embedding).to(device)\n",
    "model_vqvae.load_state_dict(torch.load(f\"/mnt/d/data/mnist_model/vqvae_lr_{lr}_nembedding_{n_embedding}_embedding_dim_{embedding_dim}_beta_{beta}.pth\"))\n"
   ],
   "id": "d48fe3a19499d022",
   "outputs": [
    {
     "name": "stderr",
     "output_type": "stream",
     "text": [
      "/tmp/ipykernel_4131/1439498034.py:2: FutureWarning: You are using `torch.load` with `weights_only=False` (the current default value), which uses the default pickle module implicitly. It is possible to construct malicious pickle data which will execute arbitrary code during unpickling (See https://github.com/pytorch/pytorch/blob/main/SECURITY.md#untrusted-models for more details). In a future release, the default value for `weights_only` will be flipped to `True`. This limits the functions that could be executed during unpickling. Arbitrary objects will no longer be allowed to be loaded via this mode unless they are explicitly allowlisted by the user via `torch.serialization.add_safe_globals`. We recommend you start setting `weights_only=True` for any use case where you don't have full control of the loaded file. Please open an issue on GitHub for any issues related to this experimental feature.\n",
      "  model_vqvae.load_state_dict(torch.load(f\"/mnt/d/data/mnist_model/vqvae_lr_{lr}_nembedding_{n_embedding}_embedding_dim_{embedding_dim}_beta_{beta}.pth\"))\n"
     ]
    },
    {
     "data": {
      "text/plain": [
       "<All keys matched successfully>"
      ]
     },
     "execution_count": 33,
     "metadata": {},
     "output_type": "execute_result"
    }
   ],
   "execution_count": 33
  },
  {
   "metadata": {
    "ExecuteTime": {
     "end_time": "2025-06-11T12:25:37.619603Z",
     "start_time": "2025-06-11T12:25:37.596160Z"
    }
   },
   "cell_type": "code",
   "source": [
    "model = PixelCNNWithEmbedding(n_embedding,embedding_dim, out_channels=n_embedding).to(device)\n",
    "pixcnn_lr = 1e-3\n",
    "pixcnn_epochs = 100\n"
   ],
   "id": "61be5e89c4e3341",
   "outputs": [],
   "execution_count": 34
  },
  {
   "metadata": {
    "ExecuteTime": {
     "end_time": "2025-06-11T12:26:07.093200Z",
     "start_time": "2025-06-11T12:26:04.061308Z"
    }
   },
   "cell_type": "code",
   "source": [
    "import wandb\n",
    "wandb.login()\n",
    "\n",
    "run =  wandb.init(\n",
    "    project=\"vqvae_mnist_pixcnn\",\n",
    "    # entity=\"mnist_diffusion\",\n",
    "    name=\"pixcnn\",\n",
    "    config={\n",
    "        \"epochs\": pixcnn_epochs,\n",
    "        \"batch_size\": batch_size,\n",
    "        \"num_workers\": num_workers,\n",
    "        \"lr\": pixcnn_lr,\n",
    "        \"n_embedding\": n_embedding,\n",
    "        \"embedding_dim\": embedding_dim,\n",
    "    }\n",
    ")"
   ],
   "id": "debf11266563c1c0",
   "outputs": [
    {
     "name": "stderr",
     "output_type": "stream",
     "text": [
      "\u001B[34m\u001B[1mwandb\u001B[0m: \u001B[33mWARNING\u001B[0m Calling wandb.login() after wandb.init() has no effect.\n"
     ]
    },
    {
     "data": {
      "text/plain": [
       "<IPython.core.display.HTML object>"
      ],
      "text/html": [
       "Finishing previous runs because reinit is set to 'default'."
      ]
     },
     "metadata": {},
     "output_type": "display_data"
    },
    {
     "data": {
      "text/plain": [
       "<IPython.core.display.HTML object>"
      ],
      "text/html": []
     },
     "metadata": {},
     "output_type": "display_data"
    },
    {
     "data": {
      "text/plain": [
       "<IPython.core.display.HTML object>"
      ],
      "text/html": [
       " View run <strong style=\"color:#cdcd00\">pixcnn</strong> at: <a href='https://wandb.ai/debugzwang-none/vqvae_mnist/runs/s5u363rp' target=\"_blank\">https://wandb.ai/debugzwang-none/vqvae_mnist/runs/s5u363rp</a><br> View project at: <a href='https://wandb.ai/debugzwang-none/vqvae_mnist' target=\"_blank\">https://wandb.ai/debugzwang-none/vqvae_mnist</a><br>Synced 5 W&B file(s), 0 media file(s), 0 artifact file(s) and 0 other file(s)"
      ]
     },
     "metadata": {},
     "output_type": "display_data"
    },
    {
     "data": {
      "text/plain": [
       "<IPython.core.display.HTML object>"
      ],
      "text/html": [
       "Find logs at: <code>./wandb/run-20250611_202538-s5u363rp/logs</code>"
      ]
     },
     "metadata": {},
     "output_type": "display_data"
    },
    {
     "data": {
      "text/plain": [
       "<IPython.core.display.HTML object>"
      ],
      "text/html": [
       "creating run (0.6s)"
      ]
     },
     "metadata": {},
     "output_type": "display_data"
    },
    {
     "data": {
      "text/plain": [
       "<IPython.core.display.HTML object>"
      ],
      "text/html": [
       "Tracking run with wandb version 0.19.11"
      ]
     },
     "metadata": {},
     "output_type": "display_data"
    },
    {
     "data": {
      "text/plain": [
       "<IPython.core.display.HTML object>"
      ],
      "text/html": [
       "Run data is saved locally in <code>/mnt/d/learn_aigc/VQVAE/wandb/run-20250611_202604-z6int3rx</code>"
      ]
     },
     "metadata": {},
     "output_type": "display_data"
    },
    {
     "data": {
      "text/plain": [
       "<IPython.core.display.HTML object>"
      ],
      "text/html": [
       "Syncing run <strong><a href='https://wandb.ai/debugzwang-none/vqvae_mnist_pixcnn/runs/z6int3rx' target=\"_blank\">pixcnn</a></strong> to <a href='https://wandb.ai/debugzwang-none/vqvae_mnist_pixcnn' target=\"_blank\">Weights & Biases</a> (<a href='https://wandb.me/developer-guide' target=\"_blank\">docs</a>)<br>"
      ]
     },
     "metadata": {},
     "output_type": "display_data"
    },
    {
     "data": {
      "text/plain": [
       "<IPython.core.display.HTML object>"
      ],
      "text/html": [
       " View project at <a href='https://wandb.ai/debugzwang-none/vqvae_mnist_pixcnn' target=\"_blank\">https://wandb.ai/debugzwang-none/vqvae_mnist_pixcnn</a>"
      ]
     },
     "metadata": {},
     "output_type": "display_data"
    },
    {
     "data": {
      "text/plain": [
       "<IPython.core.display.HTML object>"
      ],
      "text/html": [
       " View run at <a href='https://wandb.ai/debugzwang-none/vqvae_mnist_pixcnn/runs/z6int3rx' target=\"_blank\">https://wandb.ai/debugzwang-none/vqvae_mnist_pixcnn/runs/z6int3rx</a>"
      ]
     },
     "metadata": {},
     "output_type": "display_data"
    }
   ],
   "execution_count": 37
  },
  {
   "metadata": {
    "ExecuteTime": {
     "end_time": "2025-06-11T12:31:03.369728Z",
     "start_time": "2025-06-11T12:31:03.365022Z"
    }
   },
   "cell_type": "code",
   "source": [
    "from torch.nn import functional as F\n",
    "from torch.nn.functional import one_hot\n",
    "# def loss_function(logits, images):\n",
    "#     loss = F.CrossEntropyLoss(logits, images)\n",
    "#     return loss\n",
    "def train(\n",
    "        model: PixelCNNWithEmbedding,\n",
    "        vqvae: VQVAE,\n",
    "        optimizer: torch.optim.Optimizer,\n",
    "        epochs: int,\n",
    "        device: str,\n",
    "        train_dataloader: DataLoader,\n",
    "        val_dataloader: DataLoader,\n",
    "):\n",
    "    loss_function = nn.CrossEntropyLoss()\n",
    "    vqvae.eval()\n",
    "    for epoch in range(epochs):\n",
    "        print(f\"Epoch {epoch+1}/{epochs}\")\n",
    "        model.eval()\n",
    "        val_loss = 0\n",
    "        with torch.no_grad():\n",
    "            for index, (imgs, labels) in enumerate(val_dataloader):\n",
    "                imgs = imgs.to(device)\n",
    "                with torch.no_grad():\n",
    "                    z_q_idx = vqvae.encode(imgs)\n",
    "                predict_x = model(z_q_idx) \n",
    "                # predict_x = F.softmax(predict_x, dim=-1)\n",
    "                loss = loss_function(predict_x, z_q_idx)    \n",
    "                val_loss += loss.item()\n",
    "        model.train(True)\n",
    "        training_loss = 0\n",
    "        for index, (imgs, labels) in enumerate(train_dataloader):\n",
    "            imgs = imgs.to(device)\n",
    "            with torch.no_grad():\n",
    "                z_q_idx = vqvae.encode(imgs)\n",
    "\n",
    "            # z_q_idx_one_hot = one_hot(z_q_idx, num_classes=n_embedding).to(device)\n",
    "            predict_x = model(z_q_idx) \n",
    "            # predict_x = F.softmax(predict_x, dim=-1)\n",
    "            loss = loss_function(predict_x, z_q_idx)\n",
    "            optimizer.zero_grad()\n",
    "            loss.backward()\n",
    "            optimizer.step()\n",
    "            training_loss += loss.item()\n",
    "        wandb.log({\n",
    "            \"epoch\": epoch,\n",
    "            \"training_loss\": training_loss / len(train_dataloader),\n",
    "            \"val_loss\": val_loss / len(val_dataloader),\n",
    "        })\n"
   ],
   "id": "f2b4f3afd7b19387",
   "outputs": [],
   "execution_count": 55
  },
  {
   "metadata": {
    "ExecuteTime": {
     "end_time": "2025-06-11T12:31:04.060291Z",
     "start_time": "2025-06-11T12:31:04.052848Z"
    }
   },
   "cell_type": "code",
   "source": [
    "from torch.utils.data import random_split\n",
    "from torchvision import transforms\n",
    "\n",
    "transform = transforms.Compose([\n",
    "    transforms.Lambda(lambda x: x.reshape(28, 28)),\n",
    "    transforms.ToTensor(),\n",
    "    transforms.Pad((2, 2, 2, 2))  # Pad to 32x32\n",
    "])\n",
    "# Assuming mnist_data and mnist_label are already defined\n",
    "dataset = MNISTDataset(mnist_data, mnist_label, transform=transform)\n",
    "\n",
    "# Define the lengths for training and validation sets\n",
    "train_size = 50000\n",
    "val_size = 10000\n",
    "# train_size = 500\n",
    "# val_size = 100\n",
    "test_size = len(dataset) - train_size - val_size\n",
    "# Split the dataset\n",
    "train_dataset, val_dataset, test_dataset = random_split(dataset, [train_size, val_size, test_size])\n",
    "\n",
    "# Now you can use train_dataset and val_dataset with DataLoader\n",
    "train_loader = DataLoader(train_dataset, batch_size=batch_size, num_workers=num_workers, shuffle=True)\n",
    "val_loader = DataLoader(val_dataset, batch_size=batch_size, num_workers=num_workers, shuffle=False)\n",
    "test_loader = DataLoader(test_dataset, batch_size=batch_size, num_workers=num_workers, shuffle=False)"
   ],
   "id": "c4c9bcfdb2765753",
   "outputs": [],
   "execution_count": 56
  },
  {
   "metadata": {
    "ExecuteTime": {
     "end_time": "2025-06-11T12:39:07.453600Z",
     "start_time": "2025-06-11T12:31:04.333931Z"
    }
   },
   "cell_type": "code",
   "source": [
    "train(\n",
    "    vqvae=model_vqvae,\n",
    "    model=model,\n",
    "    optimizer=torch.optim.Adam(params=model.parameters(), lr=pixcnn_lr),\n",
    "    epochs=EPOCHS,\n",
    "    device=device,\n",
    "    train_dataloader=train_loader,\n",
    "    val_dataloader=val_loader,\n",
    ")"
   ],
   "id": "2da2562989cfbb80",
   "outputs": [
    {
     "name": "stdout",
     "output_type": "stream",
     "text": [
      "Epoch 1/100\n",
      "Epoch 2/100\n",
      "Epoch 3/100\n",
      "Epoch 4/100\n",
      "Epoch 5/100\n",
      "Epoch 6/100\n",
      "Epoch 7/100\n",
      "Epoch 8/100\n",
      "Epoch 9/100\n",
      "Epoch 10/100\n",
      "Epoch 11/100\n",
      "Epoch 12/100\n",
      "Epoch 13/100\n",
      "Epoch 14/100\n",
      "Epoch 15/100\n",
      "Epoch 16/100\n",
      "Epoch 17/100\n",
      "Epoch 18/100\n",
      "Epoch 19/100\n",
      "Epoch 20/100\n",
      "Epoch 21/100\n",
      "Epoch 22/100\n",
      "Epoch 23/100\n",
      "Epoch 24/100\n",
      "Epoch 25/100\n",
      "Epoch 26/100\n",
      "Epoch 27/100\n",
      "Epoch 28/100\n",
      "Epoch 29/100\n",
      "Epoch 30/100\n",
      "Epoch 31/100\n",
      "Epoch 32/100\n",
      "Epoch 33/100\n",
      "Epoch 34/100\n",
      "Epoch 35/100\n",
      "Epoch 36/100\n",
      "Epoch 37/100\n",
      "Epoch 38/100\n",
      "Epoch 39/100\n",
      "Epoch 40/100\n",
      "Epoch 41/100\n",
      "Epoch 42/100\n",
      "Epoch 43/100\n",
      "Epoch 44/100\n",
      "Epoch 45/100\n",
      "Epoch 46/100\n",
      "Epoch 47/100\n",
      "Epoch 48/100\n",
      "Epoch 49/100\n",
      "Epoch 50/100\n",
      "Epoch 51/100\n",
      "Epoch 52/100\n",
      "Epoch 53/100\n",
      "Epoch 54/100\n",
      "Epoch 55/100\n",
      "Epoch 56/100\n",
      "Epoch 57/100\n",
      "Epoch 58/100\n",
      "Epoch 59/100\n",
      "Epoch 60/100\n",
      "Epoch 61/100\n",
      "Epoch 62/100\n",
      "Epoch 63/100\n",
      "Epoch 64/100\n",
      "Epoch 65/100\n",
      "Epoch 66/100\n",
      "Epoch 67/100\n",
      "Epoch 68/100\n",
      "Epoch 69/100\n",
      "Epoch 70/100\n",
      "Epoch 71/100\n",
      "Epoch 72/100\n",
      "Epoch 73/100\n",
      "Epoch 74/100\n",
      "Epoch 75/100\n",
      "Epoch 76/100\n",
      "Epoch 77/100\n",
      "Epoch 78/100\n",
      "Epoch 79/100\n",
      "Epoch 80/100\n",
      "Epoch 81/100\n",
      "Epoch 82/100\n",
      "Epoch 83/100\n",
      "Epoch 84/100\n",
      "Epoch 85/100\n",
      "Epoch 86/100\n",
      "Epoch 87/100\n",
      "Epoch 88/100\n",
      "Epoch 89/100\n",
      "Epoch 90/100\n",
      "Epoch 91/100\n",
      "Epoch 92/100\n",
      "Epoch 93/100\n",
      "Epoch 94/100\n",
      "Epoch 95/100\n",
      "Epoch 96/100\n",
      "Epoch 97/100\n",
      "Epoch 98/100\n",
      "Epoch 99/100\n",
      "Epoch 100/100\n"
     ]
    }
   ],
   "execution_count": 57
  },
  {
   "metadata": {
    "ExecuteTime": {
     "end_time": "2025-06-11T12:39:07.481290Z",
     "start_time": "2025-06-11T12:39:07.457932Z"
    }
   },
   "cell_type": "code",
   "source": [
    "torch.save(model.state_dict(), f\"/mnt/d/data/mnist_model/vqvae_pixcnn_lr_{pixcnn_lr}_nembedding_{n_embedding}_embedding_dim_{embedding_dim}.pth\")\n",
    "\n",
    "    "
   ],
   "id": "fc3e5a0b39794f27",
   "outputs": [],
   "execution_count": 58
  },
  {
   "metadata": {
    "ExecuteTime": {
     "end_time": "2025-06-11T13:02:36.267368Z",
     "start_time": "2025-06-11T13:02:36.188675Z"
    }
   },
   "cell_type": "code",
   "source": [
    "C, H, W = 1, 32, 32\n",
    "H, W = model_vqvae.get_latent_HW((C, H, W))\n",
    "n_samples = 16\n",
    "input_shape = (n_samples, H, W)\n",
    "x = torch.zeros(input_shape).to(device).to(torch.long)\n",
    "\n",
    "with torch.no_grad():\n",
    "    model.eval()\n",
    "    for i in range(H):\n",
    "        for j in range(W):\n",
    "            output = model(x)\n",
    "            prob_dist = F.softmax(output[:, :, i, j], -1)\n",
    "            pixel = torch.multinomial(prob_dist, 1)\n",
    "            x[:, i, j] = pixel[:, 0]\n",
    "\n",
    "imgs = model_vqvae.decode(x)"
   ],
   "id": "1b141214bfd6c442",
   "outputs": [],
   "execution_count": 89
  },
  {
   "metadata": {
    "ExecuteTime": {
     "end_time": "2025-06-11T13:02:36.782927Z",
     "start_time": "2025-06-11T13:02:36.778931Z"
    }
   },
   "cell_type": "code",
   "source": [
    "from matplotlib import pyplot as plt\n",
    "import torchvision.utils as vutils\n",
    "def show_images(images):\n",
    "    grid = vutils.make_grid(images, nrow=4, padding=2, normalize=True)\n",
    "    plt.figure(figsize=(8,8))\n",
    "    plt.imshow(grid.permute(1, 2, 0).cpu(), cmap='gray')  # 调整维度顺序\n",
    "    plt.axis('off')\n",
    "    plt.show()\n",
    "    plt.close()\n",
    "    "
   ],
   "id": "e38d39686d7856ee",
   "outputs": [],
   "execution_count": 90
  },
  {
   "metadata": {
    "ExecuteTime": {
     "end_time": "2025-06-11T13:02:39.520066Z",
     "start_time": "2025-06-11T13:02:39.483621Z"
    }
   },
   "cell_type": "code",
   "source": "show_images(imgs)",
   "id": "fecff44d8fb8ad8c",
   "outputs": [
    {
     "data": {
      "text/plain": [
       "<Figure size 800x800 with 1 Axes>"
      ],
      "image/png": "[encoded data removed]"
     },
     "metadata": {},
     "output_type": "display_data"
    }
   ],
   "execution_count": 91
  },
  {
   "metadata": {
    "ExecuteTime": {
     "end_time": "2025-06-11T13:05:16.438902Z",
     "start_time": "2025-06-11T13:05:05.909151Z"
    }
   },
   "cell_type": "code",
   "source": [
    "result = torch.empty(10000, 1, 32, 32)\n",
    "C, H, W = 1, 32, 32\n",
    "H, W = model_vqvae.get_latent_HW((C, H, W))\n",
    "n_samples = 100\n",
    "input_shape = (n_samples, H, W)\n",
    "x = torch.zeros(input_shape).to(device).to(torch.long)\n",
    "\n",
    "with torch.no_grad():\n",
    "    model.eval()\n",
    "    for i in range(100):\n",
    "        print(f\"Generating batch {i+1}/100\")\n",
    "        with torch.no_grad():\n",
    "            for h in range(H):\n",
    "                for w in range(W):\n",
    "                    output = model(x)\n",
    "                    prob_dist = F.softmax(output[:, :, h, w], -1)\n",
    "                    pixel = torch.multinomial(prob_dist, 1)\n",
    "                    x[:, h, w] = pixel[:, 0]\n",
    "        imgs = model_vqvae.decode(x)\n",
    "        imgs = imgs.cpu()\n",
    "        result[i*100:(i+1)*100] = imgs\n",
    "        \n"
   ],
   "id": "2c535fa54b31a72",
   "outputs": [
    {
     "name": "stdout",
     "output_type": "stream",
     "text": [
      "Generating batch 1/100\n",
      "Generating batch 2/100\n",
      "Generating batch 3/100\n",
      "Generating batch 4/100\n",
      "Generating batch 5/100\n",
      "Generating batch 6/100\n",
      "Generating batch 7/100\n",
      "Generating batch 8/100\n",
      "Generating batch 9/100\n",
      "Generating batch 10/100\n",
      "Generating batch 11/100\n",
      "Generating batch 12/100\n",
      "Generating batch 13/100\n",
      "Generating batch 14/100\n",
      "Generating batch 15/100\n",
      "Generating batch 16/100\n",
      "Generating batch 17/100\n",
      "Generating batch 18/100\n",
      "Generating batch 19/100\n",
      "Generating batch 20/100\n",
      "Generating batch 21/100\n",
      "Generating batch 22/100\n",
      "Generating batch 23/100\n",
      "Generating batch 24/100\n",
      "Generating batch 25/100\n",
      "Generating batch 26/100\n",
      "Generating batch 27/100\n",
      "Generating batch 28/100\n",
      "Generating batch 29/100\n",
      "Generating batch 30/100\n",
      "Generating batch 31/100\n",
      "Generating batch 32/100\n",
      "Generating batch 33/100\n",
      "Generating batch 34/100\n",
      "Generating batch 35/100\n",
      "Generating batch 36/100\n",
      "Generating batch 37/100\n",
      "Generating batch 38/100\n",
      "Generating batch 39/100\n",
      "Generating batch 40/100\n",
      "Generating batch 41/100\n",
      "Generating batch 42/100\n",
      "Generating batch 43/100\n",
      "Generating batch 44/100\n",
      "Generating batch 45/100\n",
      "Generating batch 46/100\n",
      "Generating batch 47/100\n",
      "Generating batch 48/100\n",
      "Generating batch 49/100\n",
      "Generating batch 50/100\n",
      "Generating batch 51/100\n",
      "Generating batch 52/100\n",
      "Generating batch 53/100\n",
      "Generating batch 54/100\n",
      "Generating batch 55/100\n",
      "Generating batch 56/100\n",
      "Generating batch 57/100\n",
      "Generating batch 58/100\n",
      "Generating batch 59/100\n",
      "Generating batch 60/100\n",
      "Generating batch 61/100\n",
      "Generating batch 62/100\n",
      "Generating batch 63/100\n",
      "Generating batch 64/100\n",
      "Generating batch 65/100\n",
      "Generating batch 66/100\n",
      "Generating batch 67/100\n",
      "Generating batch 68/100\n",
      "Generating batch 69/100\n",
      "Generating batch 70/100\n",
      "Generating batch 71/100\n",
      "Generating batch 72/100\n",
      "Generating batch 73/100\n",
      "Generating batch 74/100\n",
      "Generating batch 75/100\n",
      "Generating batch 76/100\n",
      "Generating batch 77/100\n",
      "Generating batch 78/100\n",
      "Generating batch 79/100\n",
      "Generating batch 80/100\n",
      "Generating batch 81/100\n",
      "Generating batch 82/100\n",
      "Generating batch 83/100\n",
      "Generating batch 84/100\n",
      "Generating batch 85/100\n",
      "Generating batch 86/100\n",
      "Generating batch 87/100\n",
      "Generating batch 88/100\n",
      "Generating batch 89/100\n",
      "Generating batch 90/100\n",
      "Generating batch 91/100\n",
      "Generating batch 92/100\n",
      "Generating batch 93/100\n",
      "Generating batch 94/100\n",
      "Generating batch 95/100\n",
      "Generating batch 96/100\n",
      "Generating batch 97/100\n",
      "Generating batch 98/100\n",
      "Generating batch 99/100\n",
      "Generating batch 100/100\n"
     ]
    }
   ],
   "execution_count": 98
  },
  {
   "metadata": {
    "ExecuteTime": {
     "end_time": "2025-06-11T13:05:19.961877Z",
     "start_time": "2025-06-11T13:05:19.907337Z"
    }
   },
   "cell_type": "code",
   "source": "plt.imshow(result[200][0, 2:-2, 2:-2].squeeze().cpu().numpy(), cmap='gray')",
   "id": "c04b22ef86ed834e",
   "outputs": [
    {
     "data": {
      "text/plain": [
       "<matplotlib.image.AxesImage at 0x7f71a8390490>"
      ]
     },
     "execution_count": 100,
     "metadata": {},
     "output_type": "execute_result"
    },
    {
     "data": {
      "text/plain": [
       "<Figure size 640x480 with 1 Axes>"
      ],
      "image/png": "[encoded data removed]"
     },
     "metadata": {},
     "output_type": "display_data"
    }
   ],
   "execution_count": 100
  },
  {
   "metadata": {
    "ExecuteTime": {
     "end_time": "2025-06-11T13:13:31.239260Z",
     "start_time": "2025-06-11T13:13:31.227015Z"
    }
   },
   "cell_type": "code",
   "source": "result = (result-result.min())/(result.max()-result.min())",
   "id": "cf0c537a73b1cd11",
   "outputs": [],
   "execution_count": 104
  },
  {
   "metadata": {
    "ExecuteTime": {
     "end_time": "2025-06-11T13:14:28.557412Z",
     "start_time": "2025-06-11T13:13:32.858559Z"
    }
   },
   "cell_type": "code",
   "source": [
    "import tifffile as tif\n",
    "import os\n",
    "result_dir = \"/mnt/d/data/mnist_result/vqvae_result/\"\n",
    "os.makedirs(result_dir, exist_ok=True)\n",
    "from os.path import join as ospj\n",
    "for i in range(result.shape[0]):\n",
    "    tif.imwrite(ospj(result_dir, f\"{str(i).zfill(5)}.tif\"), result[i][0, 2:-2, 2:-2].squeeze().cpu().numpy())"
   ],
   "id": "f33da6adaca8ec00",
   "outputs": [],
   "execution_count": 105
  },
  {
   "metadata": {
    "ExecuteTime": {
     "end_time": "2025-06-11T13:16:16.273881Z",
     "start_time": "2025-06-11T13:14:28.563014Z"
    }
   },
   "cell_type": "code",
   "source": [
    "test_dir = \"/mnt/d/data/mnist_result/test_sample/\"\n",
    "result_dir = \"/mnt/d/data/mnist_result/vqvae_result/\"\n",
    "\n",
    "real_images_folder = test_dir\n",
    "# generated_images_folder = './FID_app3'\n",
    "generated_images_folder = result_dir\n",
    "import torch\n",
    "from pytorch_fid import fid_score\n",
    "\n",
    "fid_value = fid_score.calculate_fid_given_paths([real_images_folder, generated_images_folder],\n",
    "                                                batch_size=50,\n",
    "                                                device=torch.device('cuda' if torch.cuda.is_available() else 'cpu'),\n",
    "                                                dims=2048                                                 \n",
    "                                                )\n",
    "print(\"FID score:\", fid_value)"
   ],
   "id": "6ebf941cd04b317",
   "outputs": [
    {
     "name": "stderr",
     "output_type": "stream",
     "text": [
      "100%|██████████| 200/200 [00:51<00:00,  3.87it/s]\n",
      "100%|██████████| 200/200 [00:52<00:00,  3.84it/s]\n"
     ]
    },
    {
     "name": "stdout",
     "output_type": "stream",
     "text": [
      "FID score: 2.8502779525741113\n"
     ]
    }
   ],
   "execution_count": 106
  },
  {
   "metadata": {},
   "cell_type": "code",
   "outputs": [],
   "execution_count": null,
   "source": "",
   "id": "5753778a4dab8c00"
  }
 ],
 "metadata": {
  "kernelspec": {
   "display_name": "Python 3",
   "language": "python",
   "name": "python3"
  },
  "language_info": {
   "codemirror_mode": {
    "name": "ipython",
    "version": 2
   },
   "file_extension": ".py",
   "mimetype": "text/x-python",
   "name": "python",
   "nbconvert_exporter": "python",
   "pygments_lexer": "ipython2",
   "version": "2.7.6"
  }
 },
 "nbformat": 4,
 "nbformat_minor": 5
}
