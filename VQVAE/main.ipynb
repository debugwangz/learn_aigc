{
 "cells": [
  {
   "cell_type": "code",
   "id": "initial_id",
   "metadata": {
    "collapsed": true,
    "ExecuteTime": {
     "end_time": "2025-06-11T12:59:17.525036Z",
     "start_time": "2025-06-11T12:59:15.044886Z"
    }
   },
   "source": [
    "from scipy.io import loadmat\n",
    "from torch.utils.data import Dataset\n",
    "from torch import nn\n",
    "import torch\n",
    "from torch.utils.data import DataLoader\n",
    "import numpy as np\n",
    "import random\n",
    "import torchvision.utils as vutils\n",
    "import matplotlib.pyplot as plt\n",
    "from vqvae import VQVAE"
   ],
   "outputs": [],
   "execution_count": 1
  },
  {
   "metadata": {
    "ExecuteTime": {
     "end_time": "2025-06-11T12:59:17.597067Z",
     "start_time": "2025-06-11T12:59:17.529205Z"
    }
   },
   "cell_type": "code",
   "source": [
    "\n",
    "def set_seed(seed):\n",
    "    random.seed(seed)\n",
    "    np.random.seed(seed)\n",
    "    torch.manual_seed(seed)\n",
    "    if torch.cuda.is_available():\n",
    "        torch.cuda.manual_seed(seed)\n",
    "        torch.cuda.manual_seed_all(seed)\n",
    "    torch.backends.cudnn.deterministic = True\n",
    "    torch.backends.cudnn.benchmark = False\n",
    "\n",
    "# Set the seed\n",
    "set_seed(42)"
   ],
   "id": "854c666e2194d99b",
   "outputs": [],
   "execution_count": 2
  },
  {
   "metadata": {
    "ExecuteTime": {
     "end_time": "2025-06-11T12:59:17.979909Z",
     "start_time": "2025-06-11T12:59:17.785036Z"
    }
   },
   "cell_type": "code",
   "source": [
    "mnist = loadmat(\"../mnist-original.mat/mnist-original.mat\")\n",
    "mnist_data = mnist[\"data\"].T\n",
    "mnist_label = mnist[\"label\"][0]"
   ],
   "id": "ead7b9a06567ed04",
   "outputs": [],
   "execution_count": 3
  },
  {
   "metadata": {
    "ExecuteTime": {
     "end_time": "2025-06-11T12:59:18.063063Z",
     "start_time": "2025-06-11T12:59:17.993340Z"
    }
   },
   "cell_type": "code",
   "source": "plt.imshow(mnist_data[0].reshape(28, 28), cmap=\"gray\")",
   "id": "89d8514a224e9abd",
   "outputs": [
    {
     "data": {
      "text/plain": [
       "<matplotlib.image.AxesImage at 0x7fe21b0fac20>"
      ]
     },
     "execution_count": 4,
     "metadata": {},
     "output_type": "execute_result"
    },
    {
     "data": {
      "text/plain": [
       "<Figure size 640x480 with 1 Axes>"
      ],
      "image/png": "[encoded data removed]"
     },
     "metadata": {},
     "output_type": "display_data"
    }
   ],
   "execution_count": 4
  },
  {
   "metadata": {
    "ExecuteTime": {
     "end_time": "2025-06-11T12:59:18.114087Z",
     "start_time": "2025-06-11T12:59:18.110482Z"
    }
   },
   "cell_type": "code",
   "source": [
    "from torchvision import transforms\n",
    "transform = transforms.Compose([\n",
    "    transforms.Lambda(lambda x: x.reshape(28, 28)),\n",
    "    transforms.ToTensor(),\n",
    "    transforms.Pad((2, 2, 2, 2))  # Pad to 32x32\n",
    "])"
   ],
   "id": "857b8fe60ade8913",
   "outputs": [],
   "execution_count": 5
  },
  {
   "metadata": {
    "ExecuteTime": {
     "end_time": "2025-06-11T12:59:18.171726Z",
     "start_time": "2025-06-11T12:59:18.168880Z"
    }
   },
   "cell_type": "code",
   "source": [
    "class MNISTDataset(Dataset):\n",
    "    def __init__(self, data, label, transform=None):\n",
    "        self.data = data\n",
    "        self.label = label\n",
    "        self.transform = transform\n",
    "    def __len__(self):\n",
    "        return len(self.data)\n",
    "\n",
    "    def __getitem__(self, idx):\n",
    "        return self.transform(self.data[idx]), self.label[idx]"
   ],
   "id": "5c06199900bd446",
   "outputs": [],
   "execution_count": 6
  },
  {
   "metadata": {
    "ExecuteTime": {
     "end_time": "2025-06-11T12:59:18.228723Z",
     "start_time": "2025-06-11T12:59:18.226184Z"
    }
   },
   "cell_type": "code",
   "source": "device = 'cuda' if torch.cuda.is_available() else 'cpu'\n",
   "id": "8ef3fa9b14698f20",
   "outputs": [],
   "execution_count": 7
  },
  {
   "metadata": {
    "ExecuteTime": {
     "end_time": "2025-06-11T12:59:18.288082Z",
     "start_time": "2025-06-11T12:59:18.285Z"
    }
   },
   "cell_type": "code",
   "source": [
    "EPOCHS = 100\n",
    "batch_size = 64\n",
    "num_workers = 8\n",
    "lr = 1e-3\n",
    "beta = 0.25\n",
    "n_embedding = 32\n",
    "embedding_dim = 32"
   ],
   "id": "79f934204f484c1a",
   "outputs": [],
   "execution_count": 8
  },
  {
   "metadata": {
    "ExecuteTime": {
     "end_time": "2025-06-11T12:59:21.227951Z",
     "start_time": "2025-06-11T12:59:18.346350Z"
    }
   },
   "cell_type": "code",
   "source": [
    "import wandb\n",
    "wandb.login()\n",
    "\n",
    "run =  wandb.init(\n",
    "    project=\"vqvae_mnist\",\n",
    "    # entity=\"mnist_diffusion\",\n",
    "    name=f\"n_embedding_{n_embedding}_embedding_dim_{embedding_dim}\",\n",
    "    config={\n",
    "        \"epochs\": EPOCHS,\n",
    "        \"batch_size\": batch_size,\n",
    "        \"num_workers\": num_workers,\n",
    "        \"lr\": lr,\n",
    "        \"beta\": beta,\n",
    "        \"n_embedding\":n_embedding,\n",
    "        \"embedding_dim\": embedding_dim,\n",
    "    }\n",
    ")"
   ],
   "id": "2b176ed9c3c03a90",
   "outputs": [
    {
     "name": "stderr",
     "output_type": "stream",
     "text": [
      "\u001B[34m\u001B[1mwandb\u001B[0m: Currently logged in as: \u001B[33mdebugzwang\u001B[0m (\u001B[33mdebugzwang-none\u001B[0m) to \u001B[32mhttps://api.wandb.ai\u001B[0m. Use \u001B[1m`wandb login --relogin`\u001B[0m to force relogin\n"
     ]
    },
    {
     "data": {
      "text/plain": [
       "<IPython.core.display.HTML object>"
      ],
      "text/html": [
       "Tracking run with wandb version 0.19.11"
      ]
     },
     "metadata": {},
     "output_type": "display_data"
    },
    {
     "data": {
      "text/plain": [
       "<IPython.core.display.HTML object>"
      ],
      "text/html": [
       "Run data is saved locally in <code>/mnt/d/learn_aigc/VQVAE/wandb/run-20250611_205920-sf8f97lz</code>"
      ]
     },
     "metadata": {},
     "output_type": "display_data"
    },
    {
     "data": {
      "text/plain": [
       "<IPython.core.display.HTML object>"
      ],
      "text/html": [
       "Syncing run <strong><a href='https://wandb.ai/debugzwang-none/vqvae_mnist/runs/sf8f97lz' target=\"_blank\">n_embedding_32_embedding_dim_32</a></strong> to <a href='https://wandb.ai/debugzwang-none/vqvae_mnist' target=\"_blank\">Weights & Biases</a> (<a href='https://wandb.me/developer-guide' target=\"_blank\">docs</a>)<br>"
      ]
     },
     "metadata": {},
     "output_type": "display_data"
    },
    {
     "data": {
      "text/plain": [
       "<IPython.core.display.HTML object>"
      ],
      "text/html": [
       " View project at <a href='https://wandb.ai/debugzwang-none/vqvae_mnist' target=\"_blank\">https://wandb.ai/debugzwang-none/vqvae_mnist</a>"
      ]
     },
     "metadata": {},
     "output_type": "display_data"
    },
    {
     "data": {
      "text/plain": [
       "<IPython.core.display.HTML object>"
      ],
      "text/html": [
       " View run at <a href='https://wandb.ai/debugzwang-none/vqvae_mnist/runs/sf8f97lz' target=\"_blank\">https://wandb.ai/debugzwang-none/vqvae_mnist/runs/sf8f97lz</a>"
      ]
     },
     "metadata": {},
     "output_type": "display_data"
    }
   ],
   "execution_count": 9
  },
  {
   "metadata": {
    "ExecuteTime": {
     "end_time": "2025-06-11T12:59:21.373395Z",
     "start_time": "2025-06-11T12:59:21.254888Z"
    }
   },
   "cell_type": "code",
   "source": "model = VQVAE(input_dim=1, dim=embedding_dim, n_embedding=n_embedding).to(device)\n",
   "id": "e02235501fdd5ff",
   "outputs": [],
   "execution_count": 10
  },
  {
   "metadata": {
    "ExecuteTime": {
     "end_time": "2025-06-11T12:59:21.395251Z",
     "start_time": "2025-06-11T12:59:21.388644Z"
    }
   },
   "cell_type": "code",
   "source": [
    "def loss_function(x, recon_x, ze, zq, beta=0.25):\n",
    "    l_reconstruct = nn.functional.mse_loss(x, recon_x)\n",
    "    l_embedding = nn.functional.mse_loss(ze.detach(), zq)\n",
    "    l_commitment = beta * nn.functional.mse_loss(ze, zq.detach())\n",
    "    return l_reconstruct +  l_commitment + l_embedding, l_reconstruct.item(), l_commitment.item(), l_embedding.item()\n",
    "\n",
    "\n",
    "def train(\n",
    "        model: VQVAE,\n",
    "        optimizer: torch.optim.Optimizer,\n",
    "        epochs: int,\n",
    "        device: str,\n",
    "        train_dataloader: DataLoader,\n",
    "        val_dataloader: DataLoader,\n",
    "        beta: float = 0.25,\n",
    "):\n",
    "    for epoch in range(epochs):\n",
    "        print(f\"Epoch {epoch+1}/{epochs}\")\n",
    "        model.eval()\n",
    "        val_loss = 0\n",
    "        val_rec_loss = 0\n",
    "        val_commit_loss = 0\n",
    "        val_embed_loss = 0\n",
    "        usage_accumulator = torch.zeros(model.vq_embedding.num_embeddings, device=device)\n",
    "\n",
    "        with torch.no_grad():\n",
    "            for index, (imgs, labels) in enumerate(val_dataloader):\n",
    "                imgs = imgs.to(device)\n",
    "                recon_x, ze, zq, usage_count = model(imgs, is_train=False)\n",
    "                loss, rec_loss, commit_loss, embed_loss = loss_function(imgs, recon_x,ze, zq, beta)    \n",
    "                val_loss += loss.item()\n",
    "                val_rec_loss += rec_loss\n",
    "                val_commit_loss += commit_loss\n",
    "                val_embed_loss += embed_loss\n",
    "                usage_accumulator += usage_count\n",
    "        avg_usage = usage_accumulator / len(val_dataloader)\n",
    "        model.train(True)\n",
    "        training_loss = 0\n",
    "        training_rec_loss = 0\n",
    "        training_commit_loss = 0\n",
    "        training_embed_loss = 0\n",
    "        for index, (imgs, labels) in enumerate(train_dataloader):\n",
    "            optimizer.zero_grad()\n",
    "            imgs = imgs.to(device)\n",
    "            recon_x, ze, zq = model(imgs, is_train=True)\n",
    "            loss, rec_loss, commit_loss, embed_loss = loss_function(imgs, recon_x,ze, zq, beta)    \n",
    "            loss.backward()\n",
    "            optimizer.step()\n",
    "            training_loss += loss.item()\n",
    "            training_rec_loss += rec_loss\n",
    "            training_commit_loss += commit_loss\n",
    "            training_embed_loss += embed_loss\n",
    "        # 创建一个表格，其中每行代表一个 embedding\n",
    "        table = wandb.Table(columns=[\"Embedding Index\", \"Usage Percentage\"])\n",
    "        avg_usage_list = avg_usage.cpu().numpy().tolist()\n",
    "        for idx, usage in enumerate(avg_usage_list):\n",
    "            table.add_data(idx, usage)\n",
    "        log_data = {\n",
    "            \"epoch\": epoch,\n",
    "            \"training_loss\": training_loss / len(train_dataloader),\n",
    "            \"training_rec_loss\": training_rec_loss / len(train_dataloader),\n",
    "            \"training_commit_loss\": training_commit_loss / len(train_dataloader),\n",
    "            \"training_embed_loss\": training_embed_loss / len(train_dataloader),\n",
    "            \"val_loss\": val_loss / len(val_dataloader),\n",
    "            \"val_rec_loss\": val_rec_loss / len(val_dataloader),\n",
    "            \"val_commit_loss\": val_commit_loss / len(val_dataloader),\n",
    "            \"val_embed_loss\": val_embed_loss / len(val_dataloader),\n",
    "            \"embedding usage data\": table,\n",
    "        }\n",
    "        if epoch % 5 == 0:\n",
    "            plt.figure(figsize=(12, 8))\n",
    "            x = np.arange(len(avg_usage.cpu().numpy()))\n",
    "            plt.bar(x, avg_usage.cpu().numpy())\n",
    "            embedding_usage_image = wandb.Image(plt)  # Save the image for logging\n",
    "            plt.close()\n",
    "        # Add the image only if it's generated\n",
    "        if embedding_usage_image:\n",
    "            log_data[\"embedding_usage\"] = embedding_usage_image\n",
    "\n",
    "        # Log everything at once\n",
    "        wandb.log(log_data)\n",
    "        "
   ],
   "id": "658e752a02030941",
   "outputs": [],
   "execution_count": 11
  },
  {
   "metadata": {
    "ExecuteTime": {
     "end_time": "2025-06-11T12:59:21.443415Z",
     "start_time": "2025-06-11T12:59:21.434994Z"
    }
   },
   "cell_type": "code",
   "source": [
    "from torch.utils.data import random_split\n",
    "\n",
    "# Assuming mnist_data and mnist_label are already defined\n",
    "dataset = MNISTDataset(mnist_data, mnist_label, transform=transform)\n",
    "\n",
    "# Define the lengths for training and validation sets\n",
    "train_size = 50000\n",
    "val_size = 10000\n",
    "# train_size = 500\n",
    "# val_size = 100\n",
    "test_size = len(dataset) - train_size - val_size\n",
    "# Split the dataset\n",
    "train_dataset, val_dataset, test_dataset = random_split(dataset, [train_size, val_size, test_size])\n",
    "\n",
    "# Now you can use train_dataset and val_dataset with DataLoader\n",
    "train_loader = DataLoader(train_dataset, batch_size=batch_size, num_workers=num_workers, shuffle=True)\n",
    "val_loader = DataLoader(val_dataset, batch_size=batch_size, num_workers=num_workers, shuffle=False)\n",
    "test_loader = DataLoader(test_dataset, batch_size=batch_size, num_workers=num_workers, shuffle=False)"
   ],
   "id": "9cb0547368bc3225",
   "outputs": [],
   "execution_count": 12
  },
  {
   "metadata": {
    "ExecuteTime": {
     "end_time": "2025-06-11T13:07:57.209432Z",
     "start_time": "2025-06-11T12:59:21.483634Z"
    }
   },
   "cell_type": "code",
   "source": [
    "train(\n",
    "    model=model,\n",
    "    optimizer=torch.optim.Adam(params=model.parameters(), lr=lr),\n",
    "    epochs=EPOCHS,\n",
    "    device=device,\n",
    "    train_dataloader=train_loader,\n",
    "    val_dataloader=val_loader,\n",
    "    beta=beta\n",
    ")"
   ],
   "id": "323073fbb2c1269e",
   "outputs": [
    {
     "name": "stdout",
     "output_type": "stream",
     "text": [
      "Epoch 1/100\n",
      "Epoch 2/100\n",
      "Epoch 3/100\n",
      "Epoch 4/100\n",
      "Epoch 5/100\n",
      "Epoch 6/100\n",
      "Epoch 7/100\n",
      "Epoch 8/100\n",
      "Epoch 9/100\n",
      "Epoch 10/100\n",
      "Epoch 11/100\n",
      "Epoch 12/100\n",
      "Epoch 13/100\n",
      "Epoch 14/100\n",
      "Epoch 15/100\n",
      "Epoch 16/100\n",
      "Epoch 17/100\n",
      "Epoch 18/100\n",
      "Epoch 19/100\n",
      "Epoch 20/100\n",
      "Epoch 21/100\n",
      "Epoch 22/100\n",
      "Epoch 23/100\n",
      "Epoch 24/100\n",
      "Epoch 25/100\n",
      "Epoch 26/100\n",
      "Epoch 27/100\n",
      "Epoch 28/100\n",
      "Epoch 29/100\n",
      "Epoch 30/100\n",
      "Epoch 31/100\n",
      "Epoch 32/100\n",
      "Epoch 33/100\n",
      "Epoch 34/100\n",
      "Epoch 35/100\n",
      "Epoch 36/100\n",
      "Epoch 37/100\n",
      "Epoch 38/100\n",
      "Epoch 39/100\n",
      "Epoch 40/100\n",
      "Epoch 41/100\n",
      "Epoch 42/100\n",
      "Epoch 43/100\n",
      "Epoch 44/100\n",
      "Epoch 45/100\n",
      "Epoch 46/100\n",
      "Epoch 47/100\n",
      "Epoch 48/100\n",
      "Epoch 49/100\n",
      "Epoch 50/100\n",
      "Epoch 51/100\n",
      "Epoch 52/100\n",
      "Epoch 53/100\n",
      "Epoch 54/100\n",
      "Epoch 55/100\n",
      "Epoch 56/100\n",
      "Epoch 57/100\n",
      "Epoch 58/100\n",
      "Epoch 59/100\n",
      "Epoch 60/100\n",
      "Epoch 61/100\n",
      "Epoch 62/100\n",
      "Epoch 63/100\n",
      "Epoch 64/100\n",
      "Epoch 65/100\n",
      "Epoch 66/100\n",
      "Epoch 67/100\n",
      "Epoch 68/100\n",
      "Epoch 69/100\n",
      "Epoch 70/100\n",
      "Epoch 71/100\n",
      "Epoch 72/100\n",
      "Epoch 73/100\n",
      "Epoch 74/100\n",
      "Epoch 75/100\n",
      "Epoch 76/100\n",
      "Epoch 77/100\n",
      "Epoch 78/100\n",
      "Epoch 79/100\n",
      "Epoch 80/100\n",
      "Epoch 81/100\n",
      "Epoch 82/100\n",
      "Epoch 83/100\n",
      "Epoch 84/100\n",
      "Epoch 85/100\n",
      "Epoch 86/100\n",
      "Epoch 87/100\n",
      "Epoch 88/100\n",
      "Epoch 89/100\n",
      "Epoch 90/100\n",
      "Epoch 91/100\n",
      "Epoch 92/100\n",
      "Epoch 93/100\n",
      "Epoch 94/100\n",
      "Epoch 95/100\n",
      "Epoch 96/100\n",
      "Epoch 97/100\n",
      "Epoch 98/100\n",
      "Epoch 99/100\n",
      "Epoch 100/100\n"
     ]
    }
   ],
   "execution_count": 13
  },
  {
   "metadata": {
    "ExecuteTime": {
     "end_time": "2025-06-11T13:07:57.264177Z",
     "start_time": "2025-06-11T13:07:57.253219Z"
    }
   },
   "cell_type": "code",
   "source": "torch.save(model.state_dict(), f\"/mnt/d/data/mnist_model/vqvae_lr_{lr}_nembedding_{n_embedding}_embedding_dim_{embedding_dim}_beta_{beta}.pth\")",
   "id": "5a025bfc5ef40392",
   "outputs": [],
   "execution_count": 14
  },
  {
   "metadata": {
    "ExecuteTime": {
     "end_time": "2025-06-11T13:07:57.302699Z",
     "start_time": "2025-06-11T13:07:57.300596Z"
    }
   },
   "cell_type": "code",
   "source": "",
   "id": "2c02ee4b8ab933fb",
   "outputs": [],
   "execution_count": null
  }
 ],
 "metadata": {
  "kernelspec": {
   "display_name": "Python 3",
   "language": "python",
   "name": "python3"
  },
  "language_info": {
   "codemirror_mode": {
    "name": "ipython",
    "version": 2
   },
   "file_extension": ".py",
   "mimetype": "text/x-python",
   "name": "python",
   "nbconvert_exporter": "python",
   "pygments_lexer": "ipython2",
   "version": "2.7.6"
  }
 },
 "nbformat": 4,
 "nbformat_minor": 5
}
