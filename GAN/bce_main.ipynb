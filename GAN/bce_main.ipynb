{
 "cells": [
  {
   "cell_type": "code",
   "id": "initial_id",
   "metadata": {
    "collapsed": true,
    "ExecuteTime": {
     "end_time": "2025-06-14T04:41:09.409103Z",
     "start_time": "2025-06-14T04:41:08.440392Z"
    }
   },
   "source": [
    "from scipy.io import loadmat\n",
    "from torch.utils.data import Dataset\n",
    "from torch import nn\n",
    "import torch\n",
    "from torch.utils.data import DataLoader\n",
    "import numpy as np\n",
    "import random\n",
    "import matplotlib.pyplot as plt\n",
    "from gan import Generator, Discriminator"
   ],
   "outputs": [],
   "execution_count": 1
  },
  {
   "metadata": {
    "ExecuteTime": {
     "end_time": "2025-06-14T04:41:09.439328Z",
     "start_time": "2025-06-14T04:41:09.412196Z"
    }
   },
   "cell_type": "code",
   "source": [
    "\n",
    "def set_seed(seed):\n",
    "    random.seed(seed)\n",
    "    np.random.seed(seed)\n",
    "    torch.manual_seed(seed)\n",
    "    if torch.cuda.is_available():\n",
    "        torch.cuda.manual_seed(seed)\n",
    "        torch.cuda.manual_seed_all(seed)\n",
    "    torch.backends.cudnn.deterministic = True\n",
    "    torch.backends.cudnn.benchmark = False\n",
    "\n",
    "# Set the seed\n",
    "set_seed(42)"
   ],
   "id": "854c666e2194d99b",
   "outputs": [],
   "execution_count": 2
  },
  {
   "metadata": {
    "ExecuteTime": {
     "end_time": "2025-06-14T04:41:09.880967Z",
     "start_time": "2025-06-14T04:41:09.658967Z"
    }
   },
   "cell_type": "code",
   "source": [
    "mnist = loadmat(\"../mnist-original.mat/mnist-original.mat\")\n",
    "mnist_data = mnist[\"data\"].T\n",
    "mnist_label = mnist[\"label\"][0]"
   ],
   "id": "ead7b9a06567ed04",
   "outputs": [],
   "execution_count": 3
  },
  {
   "metadata": {
    "ExecuteTime": {
     "end_time": "2025-06-14T04:41:09.980049Z",
     "start_time": "2025-06-14T04:41:09.915031Z"
    }
   },
   "cell_type": "code",
   "source": "plt.imshow(mnist_data[0].reshape(28, 28), cmap=\"gray\")",
   "id": "89d8514a224e9abd",
   "outputs": [
    {
     "data": {
      "text/plain": [
       "<matplotlib.image.AxesImage at 0x7f50b53b2680>"
      ]
     },
     "execution_count": 4,
     "metadata": {},
     "output_type": "execute_result"
    },
    {
     "data": {
      "text/plain": [
       "<Figure size 640x480 with 1 Axes>"
      ],
      "image/png": "[encoded data removed]"
     },
     "metadata": {},
     "output_type": "display_data"
    }
   ],
   "execution_count": 4
  },
  {
   "metadata": {
    "ExecuteTime": {
     "end_time": "2025-06-14T04:41:10.511070Z",
     "start_time": "2025-06-14T04:41:09.992947Z"
    }
   },
   "cell_type": "code",
   "source": [
    "from torchvision import transforms\n",
    "transform = transforms.Compose([\n",
    "    transforms.Lambda(lambda x: x.reshape(28, 28)),\n",
    "    transforms.ToTensor(),\n",
    "])"
   ],
   "id": "857b8fe60ade8913",
   "outputs": [],
   "execution_count": 5
  },
  {
   "metadata": {
    "ExecuteTime": {
     "end_time": "2025-06-14T04:41:10.531106Z",
     "start_time": "2025-06-14T04:41:10.528734Z"
    }
   },
   "cell_type": "code",
   "source": [
    "class MNISTDataset(Dataset):\n",
    "    def __init__(self, data, label, transform=None):\n",
    "        self.data = data\n",
    "        self.label = label\n",
    "        self.transform = transform\n",
    "    def __len__(self):\n",
    "        return len(self.data)\n",
    "\n",
    "    def __getitem__(self, idx):\n",
    "        return self.transform(self.data[idx]), self.label[idx]"
   ],
   "id": "5c06199900bd446",
   "outputs": [],
   "execution_count": 6
  },
  {
   "metadata": {
    "ExecuteTime": {
     "end_time": "2025-06-14T04:41:10.598712Z",
     "start_time": "2025-06-14T04:41:10.596640Z"
    }
   },
   "cell_type": "code",
   "source": "device = 'cuda' if torch.cuda.is_available() else 'cpu'\n",
   "id": "8ef3fa9b14698f20",
   "outputs": [],
   "execution_count": 7
  },
  {
   "metadata": {
    "ExecuteTime": {
     "end_time": "2025-06-14T04:41:10.845541Z",
     "start_time": "2025-06-14T04:41:10.843160Z"
    }
   },
   "cell_type": "code",
   "source": [
    "EPOCHS = 10\n",
    "batch_size = 64\n",
    "num_workers = 8\n",
    "lr = 2e-4\n",
    "k = 1\n",
    "latent_dim = 128"
   ],
   "id": "79f934204f484c1a",
   "outputs": [],
   "execution_count": 8
  },
  {
   "metadata": {
    "ExecuteTime": {
     "end_time": "2025-06-14T04:41:13.726872Z",
     "start_time": "2025-06-14T04:41:11.113540Z"
    }
   },
   "cell_type": "code",
   "source": [
    "import wandb\n",
    "wandb.login()\n",
    "\n",
    "run =  wandb.init(\n",
    "    project=\"GAN_BCE_MNIST\",\n",
    "    # entity=\"mnist_diffusion\",\n",
    "    name=f\"lr_{lr}_latent_dim_{latent_dim}_k_{k}\",\n",
    "    config={\n",
    "        \"epochs\": EPOCHS,\n",
    "        \"batch_size\": batch_size,\n",
    "        \"num_workers\": num_workers,\n",
    "        \"lr\": lr,\n",
    "        \"latent_dim\": latent_dim,\n",
    "        \"k\": k,\n",
    "    }\n",
    ")"
   ],
   "id": "2b176ed9c3c03a90",
   "outputs": [
    {
     "name": "stderr",
     "output_type": "stream",
     "text": [
      "\u001B[34m\u001B[1mwandb\u001B[0m: Currently logged in as: \u001B[33mdebugzwang\u001B[0m (\u001B[33mdebugzwang-none\u001B[0m) to \u001B[32mhttps://api.wandb.ai\u001B[0m. Use \u001B[1m`wandb login --relogin`\u001B[0m to force relogin\n"
     ]
    },
    {
     "data": {
      "text/plain": [
       "<IPython.core.display.HTML object>"
      ],
      "text/html": [
       "Tracking run with wandb version 0.19.11"
      ]
     },
     "metadata": {},
     "output_type": "display_data"
    },
    {
     "data": {
      "text/plain": [
       "<IPython.core.display.HTML object>"
      ],
      "text/html": [
       "Run data is saved locally in <code>/mnt/d/learn_aigc/GAN/wandb/run-20250614_124112-vcw5eeam</code>"
      ]
     },
     "metadata": {},
     "output_type": "display_data"
    },
    {
     "data": {
      "text/plain": [
       "<IPython.core.display.HTML object>"
      ],
      "text/html": [
       "Syncing run <strong><a href='https://wandb.ai/debugzwang-none/GAN_BCE_MNIST/runs/vcw5eeam' target=\"_blank\">lr_0.0002_latent_dim_128_k_1</a></strong> to <a href='https://wandb.ai/debugzwang-none/GAN_BCE_MNIST' target=\"_blank\">Weights & Biases</a> (<a href='https://wandb.me/developer-guide' target=\"_blank\">docs</a>)<br>"
      ]
     },
     "metadata": {},
     "output_type": "display_data"
    },
    {
     "data": {
      "text/plain": [
       "<IPython.core.display.HTML object>"
      ],
      "text/html": [
       " View project at <a href='https://wandb.ai/debugzwang-none/GAN_BCE_MNIST' target=\"_blank\">https://wandb.ai/debugzwang-none/GAN_BCE_MNIST</a>"
      ]
     },
     "metadata": {},
     "output_type": "display_data"
    },
    {
     "data": {
      "text/plain": [
       "<IPython.core.display.HTML object>"
      ],
      "text/html": [
       " View run at <a href='https://wandb.ai/debugzwang-none/GAN_BCE_MNIST/runs/vcw5eeam' target=\"_blank\">https://wandb.ai/debugzwang-none/GAN_BCE_MNIST/runs/vcw5eeam</a>"
      ]
     },
     "metadata": {},
     "output_type": "display_data"
    }
   ],
   "execution_count": 9
  },
  {
   "metadata": {
    "ExecuteTime": {
     "end_time": "2025-06-14T04:44:17.883832Z",
     "start_time": "2025-06-14T04:44:17.747802Z"
    }
   },
   "cell_type": "code",
   "source": [
    "generator = Generator(latent_dim)\n",
    "discriminator = Discriminator()\n",
    "generator.to(device)\n",
    "discriminator.to(device)\n",
    "optimizer_G = torch.optim.Adam(generator.parameters(), lr=lr, betas=(0.5,0.999))\n",
    "optimizer_D = torch.optim.Adam(discriminator.parameters(), lr=lr, betas=(0.5, 0.999))"
   ],
   "id": "e02235501fdd5ff",
   "outputs": [],
   "execution_count": 10
  },
  {
   "metadata": {
    "ExecuteTime": {
     "end_time": "2025-06-14T04:44:18.528790Z",
     "start_time": "2025-06-14T04:44:18.521051Z"
    }
   },
   "cell_type": "code",
   "source": [
    "def d_loss_bce(d, real_imgs, fake_imgs, adversarial_loss_fn=torch.nn.BCELoss()):\n",
    "    real_validity = d(real_imgs)\n",
    "    fake_validity = d(fake_imgs)\n",
    "    real_labels = torch.ones(real_imgs.size(0), 1).to(real_imgs.device)\n",
    "    real_adversarial_loss = adversarial_loss_fn(real_validity, real_labels)\n",
    "    fake_labels = torch.zeros(fake_imgs.size(0), 1).to(fake_imgs.device)\n",
    "    fake_adversarial_loss = adversarial_loss_fn(fake_validity, fake_labels)\n",
    "    return (real_adversarial_loss + fake_adversarial_loss)/2\n",
    "\n",
    "def g_loss_bce(d, real_imgs, fake_imgs, adversarial_loss_fn=torch.nn.BCELoss()):\n",
    "    fake_validity = d(fake_imgs)\n",
    "    real_labels = torch.ones(real_imgs.size(0), 1).to(real_imgs.device)\n",
    "    adversarial_loss = adversarial_loss_fn(fake_validity, real_labels)\n",
    "    return adversarial_loss\n",
    "\n",
    "\n",
    "def train(\n",
    "        generator: Generator,\n",
    "        discriminator: Discriminator,\n",
    "        d_optimizer: torch.optim.Optimizer,\n",
    "        g_optimizer: torch.optim.Optimizer,\n",
    "        epochs: int,\n",
    "        device: str,\n",
    "        train_dataloader: DataLoader,\n",
    "        val_dataloader: DataLoader,\n",
    "        k: int = 5,\n",
    "):\n",
    "    adversarial_loss_fn=torch.nn.BCELoss()\n",
    "    for epoch in range(epochs):\n",
    "        print(f\"Epoch {epoch+1}/{epochs}\")\n",
    "        discriminator.eval()\n",
    "        generator.eval()\n",
    "        val_d_loss = 0\n",
    "        val_g_loss = 0\n",
    "        images = None\n",
    "        with torch.no_grad():\n",
    "            for index, (imgs, labels) in enumerate(val_dataloader):\n",
    "                imgs = imgs.to(device)\n",
    "                z = torch.randn(imgs.size(0), generator.latent_dim).to(device)\n",
    "                fake_imgs = generator(z)\n",
    "                d_loss_value = d_loss_bce(discriminator, imgs, fake_imgs.detach(), adversarial_loss_fn)\n",
    "                g_loss_value = g_loss_bce(discriminator, imgs, fake_imgs, adversarial_loss_fn)\n",
    "                val_d_loss += d_loss_value.item()\n",
    "                val_g_loss += g_loss_value.item()\n",
    "                if epoch % 10 == 0 and index == 0:\n",
    "                    z = torch.randn(imgs.size(0), generator.latent_dim).to(device)\n",
    "                    output = generator(z)\n",
    "                    images = [wandb.Image(output[i].squeeze(0).cpu().numpy()) for i in range(1)]\n",
    "        discriminator.train()\n",
    "        generator.train()\n",
    "        training_d_loss = 0\n",
    "        training_g_loss = 0\n",
    "        def train_generator(z):\n",
    "            g_optimizer.zero_grad()\n",
    "            fake_imgs = generator(z)\n",
    "            loss = g_loss_bce(discriminator, fake_imgs, fake_imgs, adversarial_loss_fn)\n",
    "            loss.backward()\n",
    "            g_optimizer.step()\n",
    "            return loss.item()\n",
    "        def train_discriminator(real_imgs, fake_imgs):\n",
    "            d_optimizer.zero_grad()\n",
    "            loss = d_loss_bce(discriminator, real_imgs, fake_imgs, adversarial_loss_fn)\n",
    "            loss.backward()\n",
    "            d_optimizer.step()\n",
    "            return loss.item()\n",
    "\n",
    "        for index, (imgs, _) in enumerate(train_dataloader):\n",
    "            imgs = imgs.to(device)\n",
    "            for _ in range(k):\n",
    "                z = torch.randn(imgs.size(0), generator.latent_dim).to(device)\n",
    "                fake_imgs = generator(z)\n",
    "                training_d_loss += train_discriminator(imgs, fake_imgs.detach()) / k\n",
    "\n",
    "            z = torch.randn(imgs.size(0), generator.latent_dim).to(device)  \n",
    "            training_g_loss += train_generator(z)\n",
    "\n",
    "        # 创建一个表格，其中每行代表一个 embedding\n",
    "        log_data = {\n",
    "            \"epoch\": epoch,\n",
    "            \"training_d_loss\": training_d_loss / len(train_dataloader),\n",
    "            \"training_g_loss\": training_g_loss / len(train_dataloader),\n",
    "            \"validation_d_loss\": val_d_loss / len(val_dataloader),\n",
    "            \"validation_g_loss\": val_g_loss / len(val_dataloader),\n",
    "\n",
    "        }\n",
    "        if images is not None:\n",
    "            log_data[\"validation_images\"] = images\n",
    "        wandb.log(log_data)\n"
   ],
   "id": "658e752a02030941",
   "outputs": [],
   "execution_count": 11
  },
  {
   "metadata": {
    "ExecuteTime": {
     "end_time": "2025-06-14T04:44:20.264562Z",
     "start_time": "2025-06-14T04:44:20.249374Z"
    }
   },
   "cell_type": "code",
   "source": [
    "def weights_init_normal(m):\n",
    "    classname = m.__class__.__name__\n",
    "    if classname.find('Linear') != -1:\n",
    "        nn.init.normal_(m.weight.data, mean=0.0, std=0.02)\n",
    "        if m.bias is not None:\n",
    "            nn.init.constant_(m.bias.data, 0)\n",
    "for model in [generator, discriminator]:\n",
    "    model.apply(weights_init_normal)\n",
    "    print(f\"Initialized {model.__class__.__name__} weights.\")"
   ],
   "id": "fd5e00573b915e39",
   "outputs": [
    {
     "name": "stdout",
     "output_type": "stream",
     "text": [
      "Initialized Generator weights.\n",
      "Initialized Discriminator weights.\n"
     ]
    }
   ],
   "execution_count": 12
  },
  {
   "metadata": {
    "ExecuteTime": {
     "end_time": "2025-06-14T04:44:21.992979Z",
     "start_time": "2025-06-14T04:44:21.982268Z"
    }
   },
   "cell_type": "code",
   "source": [
    "from torch.utils.data import random_split\n",
    "\n",
    "# Assuming mnist_data and mnist_label are already defined\n",
    "dataset = MNISTDataset(mnist_data, mnist_label, transform=transform)\n",
    "\n",
    "# Define the lengths for training and validation sets\n",
    "train_size = 50000\n",
    "val_size = 10000\n",
    "# train_size = 500\n",
    "# val_size = 100\n",
    "test_size = len(dataset) - train_size - val_size\n",
    "# Split the dataset\n",
    "train_dataset, val_dataset, test_dataset = random_split(dataset, [train_size, val_size, test_size])\n",
    "\n",
    "# Now you can use train_dataset and val_dataset with DataLoader\n",
    "train_loader = DataLoader(train_dataset, batch_size=batch_size, num_workers=num_workers, shuffle=True)\n",
    "val_loader = DataLoader(val_dataset, batch_size=batch_size, num_workers=num_workers, shuffle=False)\n",
    "test_loader = DataLoader(test_dataset, batch_size=batch_size, num_workers=num_workers, shuffle=False)"
   ],
   "id": "9cb0547368bc3225",
   "outputs": [],
   "execution_count": 13
  },
  {
   "metadata": {
    "ExecuteTime": {
     "end_time": "2025-06-14T04:45:24.127184Z",
     "start_time": "2025-06-14T04:44:24.253901Z"
    }
   },
   "cell_type": "code",
   "source": [
    "train(\n",
    "    generator=generator,\n",
    "    discriminator=discriminator,\n",
    "    g_optimizer=optimizer_G,\n",
    "    d_optimizer=optimizer_D,\n",
    "    epochs=EPOCHS,\n",
    "    device=device,\n",
    "    train_dataloader=train_loader,\n",
    "    val_dataloader=val_loader,\n",
    "    k=k\n",
    ")"
   ],
   "id": "323073fbb2c1269e",
   "outputs": [
    {
     "name": "stdout",
     "output_type": "stream",
     "text": [
      "Epoch 1/10\n",
      "Epoch 2/10\n",
      "Epoch 3/10\n",
      "Epoch 4/10\n",
      "Epoch 5/10\n",
      "Epoch 6/10\n",
      "Epoch 7/10\n",
      "Epoch 8/10\n",
      "Epoch 9/10\n",
      "Epoch 10/10\n"
     ]
    }
   ],
   "execution_count": 14
  },
  {
   "metadata": {
    "ExecuteTime": {
     "end_time": "2025-06-14T04:45:24.135990Z",
     "start_time": "2025-06-14T04:45:24.131470Z"
    }
   },
   "cell_type": "code",
   "source": [
    "from matplotlib import pyplot as plt\n",
    "import torchvision.utils as vutils\n",
    "def show_images(images):\n",
    "    grid = vutils.make_grid(images, nrow=4, padding=2, normalize=True)\n",
    "    plt.figure(figsize=(8,8))\n",
    "    plt.imshow(grid.permute(1, 2, 0).cpu(), cmap='gray')  # 调整维度顺序\n",
    "    plt.axis('off')\n",
    "    plt.show()\n",
    "    plt.close()"
   ],
   "id": "cc5bcc32f6be3fc8",
   "outputs": [],
   "execution_count": 15
  },
  {
   "metadata": {
    "ExecuteTime": {
     "end_time": "2025-06-14T04:45:24.230806Z",
     "start_time": "2025-06-14T04:45:24.181172Z"
    }
   },
   "cell_type": "code",
   "source": [
    "z = torch.randn(16, generator.latent_dim).to(device)\n",
    "with torch.no_grad():\n",
    "    generated_images = generator(z)\n",
    "show_images(generated_images.cpu().detach())\n"
   ],
   "id": "2c02ee4b8ab933fb",
   "outputs": [
    {
     "data": {
      "text/plain": [
       "<Figure size 800x800 with 1 Axes>"
      ],
      "image/png": "[encoded data removed]"
     },
     "metadata": {},
     "output_type": "display_data"
    }
   ],
   "execution_count": 16
  },
  {
   "metadata": {
    "ExecuteTime": {
     "end_time": "2025-06-14T04:45:24.398344Z",
     "start_time": "2025-06-14T04:45:24.252680Z"
    }
   },
   "cell_type": "code",
   "source": [
    "import os\n",
    "os.makedirs(f\"/mnt/d/data/mnist_model/GAN_BCE\", exist_ok=True)\n",
    "torch.save(generator.state_dict(), f\"/mnt/d/data/mnist_model/GAN_BCE/g_lr_{lr}_epoch_{EPOCHS}_latent{latent_dim}_k_{k}.pth\")\n",
    "torch.save(discriminator.state_dict(), f\"/mnt/d/data/mnist_model/GAN_BCE/d_lr_{lr}_epoch_{EPOCHS}_latent{latent_dim}_k_{k}.pth\")"
   ],
   "id": "abbe981ac0501c8f",
   "outputs": [],
   "execution_count": 17
  },
  {
   "metadata": {},
   "cell_type": "code",
   "outputs": [],
   "execution_count": null,
   "source": "",
   "id": "4f7b4a53579483bb"
  }
 ],
 "metadata": {
  "kernelspec": {
   "display_name": "Python 3",
   "language": "python",
   "name": "python3"
  },
  "language_info": {
   "codemirror_mode": {
    "name": "ipython",
    "version": 2
   },
   "file_extension": ".py",
   "mimetype": "text/x-python",
   "name": "python",
   "nbconvert_exporter": "python",
   "pygments_lexer": "ipython2",
   "version": "2.7.6"
  }
 },
 "nbformat": 4,
 "nbformat_minor": 5
}
