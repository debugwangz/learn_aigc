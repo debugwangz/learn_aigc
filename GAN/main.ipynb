{
 "cells": [
  {
   "cell_type": "code",
   "id": "initial_id",
   "metadata": {
    "collapsed": true,
    "ExecuteTime": {
     "end_time": "2025-06-14T04:39:27.314212Z",
     "start_time": "2025-06-14T04:39:26.304328Z"
    }
   },
   "source": [
    "from scipy.io import loadmat\n",
    "from torch.utils.data import Dataset\n",
    "from torch import nn\n",
    "import torch\n",
    "from torch.utils.data import DataLoader\n",
    "import numpy as np\n",
    "import random\n",
    "import matplotlib.pyplot as plt\n",
    "from gan import Generator, Discriminator"
   ],
   "outputs": [],
   "execution_count": 1
  },
  {
   "metadata": {
    "ExecuteTime": {
     "end_time": "2025-06-14T04:39:27.347909Z",
     "start_time": "2025-06-14T04:39:27.317172Z"
    }
   },
   "cell_type": "code",
   "source": [
    "\n",
    "def set_seed(seed):\n",
    "    random.seed(seed)\n",
    "    np.random.seed(seed)\n",
    "    torch.manual_seed(seed)\n",
    "    if torch.cuda.is_available():\n",
    "        torch.cuda.manual_seed(seed)\n",
    "        torch.cuda.manual_seed_all(seed)\n",
    "    torch.backends.cudnn.deterministic = True\n",
    "    torch.backends.cudnn.benchmark = False\n",
    "\n",
    "# Set the seed\n",
    "set_seed(42)"
   ],
   "id": "854c666e2194d99b",
   "outputs": [],
   "execution_count": 2
  },
  {
   "metadata": {
    "ExecuteTime": {
     "end_time": "2025-06-14T04:39:27.740279Z",
     "start_time": "2025-06-14T04:39:27.551558Z"
    }
   },
   "cell_type": "code",
   "source": [
    "mnist = loadmat(\"../mnist-original.mat/mnist-original.mat\")\n",
    "mnist_data = mnist[\"data\"].T\n",
    "mnist_label = mnist[\"label\"][0]"
   ],
   "id": "ead7b9a06567ed04",
   "outputs": [],
   "execution_count": 3
  },
  {
   "metadata": {
    "ExecuteTime": {
     "end_time": "2025-06-14T04:39:27.813135Z",
     "start_time": "2025-06-14T04:39:27.752604Z"
    }
   },
   "cell_type": "code",
   "source": "plt.imshow(mnist_data[0].reshape(28, 28), cmap=\"gray\")",
   "id": "89d8514a224e9abd",
   "outputs": [
    {
     "data": {
      "text/plain": [
       "<matplotlib.image.AxesImage at 0x7f959dff4460>"
      ]
     },
     "execution_count": 4,
     "metadata": {},
     "output_type": "execute_result"
    },
    {
     "data": {
      "text/plain": [
       "<Figure size 640x480 with 1 Axes>"
      ],
      "image/png": "[encoded data removed]"
     },
     "metadata": {},
     "output_type": "display_data"
    }
   ],
   "execution_count": 4
  },
  {
   "metadata": {
    "ExecuteTime": {
     "end_time": "2025-06-14T04:39:28.304045Z",
     "start_time": "2025-06-14T04:39:27.825030Z"
    }
   },
   "cell_type": "code",
   "source": [
    "from torchvision import transforms\n",
    "transform = transforms.Compose([\n",
    "    transforms.Lambda(lambda x: x.reshape(28, 28)),\n",
    "    transforms.ToTensor(),\n",
    "])"
   ],
   "id": "857b8fe60ade8913",
   "outputs": [],
   "execution_count": 5
  },
  {
   "metadata": {
    "ExecuteTime": {
     "end_time": "2025-06-14T04:39:28.322619Z",
     "start_time": "2025-06-14T04:39:28.320383Z"
    }
   },
   "cell_type": "code",
   "source": [
    "class MNISTDataset(Dataset):\n",
    "    def __init__(self, data, label, transform=None):\n",
    "        self.data = data\n",
    "        self.label = label\n",
    "        self.transform = transform\n",
    "    def __len__(self):\n",
    "        return len(self.data)\n",
    "\n",
    "    def __getitem__(self, idx):\n",
    "        return self.transform(self.data[idx]), self.label[idx]"
   ],
   "id": "5c06199900bd446",
   "outputs": [],
   "execution_count": 6
  },
  {
   "metadata": {
    "ExecuteTime": {
     "end_time": "2025-06-14T04:39:28.380166Z",
     "start_time": "2025-06-14T04:39:28.376992Z"
    }
   },
   "cell_type": "code",
   "source": "device = 'cuda' if torch.cuda.is_available() else 'cpu'\n",
   "id": "8ef3fa9b14698f20",
   "outputs": [],
   "execution_count": 7
  },
  {
   "metadata": {
    "ExecuteTime": {
     "end_time": "2025-06-14T04:39:28.438465Z",
     "start_time": "2025-06-14T04:39:28.435949Z"
    }
   },
   "cell_type": "code",
   "source": [
    "EPOCHS = 10\n",
    "batch_size = 64\n",
    "num_workers = 8\n",
    "lr = 2e-4\n",
    "k = 1\n",
    "latent_dim = 128"
   ],
   "id": "79f934204f484c1a",
   "outputs": [],
   "execution_count": 8
  },
  {
   "metadata": {
    "ExecuteTime": {
     "end_time": "2025-06-14T04:39:30.996511Z",
     "start_time": "2025-06-14T04:39:28.497963Z"
    }
   },
   "cell_type": "code",
   "source": [
    "import wandb\n",
    "wandb.login()\n",
    "\n",
    "run =  wandb.init(\n",
    "    project=\"GAN_MNIST\",\n",
    "    # entity=\"mnist_diffusion\",\n",
    "    name=f\"lr_{lr}_latent_dim_{latent_dim}_k_{k}\",\n",
    "    config={\n",
    "        \"epochs\": EPOCHS,\n",
    "        \"batch_size\": batch_size,\n",
    "        \"num_workers\": num_workers,\n",
    "        \"lr\": lr,\n",
    "        \"latent_dim\": latent_dim,\n",
    "        \"k\": k,\n",
    "    }\n",
    ")"
   ],
   "id": "2b176ed9c3c03a90",
   "outputs": [
    {
     "name": "stderr",
     "output_type": "stream",
     "text": [
      "\u001B[34m\u001B[1mwandb\u001B[0m: Currently logged in as: \u001B[33mdebugzwang\u001B[0m (\u001B[33mdebugzwang-none\u001B[0m) to \u001B[32mhttps://api.wandb.ai\u001B[0m. Use \u001B[1m`wandb login --relogin`\u001B[0m to force relogin\n"
     ]
    },
    {
     "data": {
      "text/plain": [
       "<IPython.core.display.HTML object>"
      ],
      "text/html": [
       "Tracking run with wandb version 0.19.11"
      ]
     },
     "metadata": {},
     "output_type": "display_data"
    },
    {
     "data": {
      "text/plain": [
       "<IPython.core.display.HTML object>"
      ],
      "text/html": [
       "Run data is saved locally in <code>/mnt/d/learn_aigc/GAN/wandb/run-20250614_123929-51khkuh9</code>"
      ]
     },
     "metadata": {},
     "output_type": "display_data"
    },
    {
     "data": {
      "text/plain": [
       "<IPython.core.display.HTML object>"
      ],
      "text/html": [
       "Syncing run <strong><a href='https://wandb.ai/debugzwang-none/GAN_MNIST/runs/51khkuh9' target=\"_blank\">lr_0.0002_latent_dim_128_k_1</a></strong> to <a href='https://wandb.ai/debugzwang-none/GAN_MNIST' target=\"_blank\">Weights & Biases</a> (<a href='https://wandb.me/developer-guide' target=\"_blank\">docs</a>)<br>"
      ]
     },
     "metadata": {},
     "output_type": "display_data"
    },
    {
     "data": {
      "text/plain": [
       "<IPython.core.display.HTML object>"
      ],
      "text/html": [
       " View project at <a href='https://wandb.ai/debugzwang-none/GAN_MNIST' target=\"_blank\">https://wandb.ai/debugzwang-none/GAN_MNIST</a>"
      ]
     },
     "metadata": {},
     "output_type": "display_data"
    },
    {
     "data": {
      "text/plain": [
       "<IPython.core.display.HTML object>"
      ],
      "text/html": [
       " View run at <a href='https://wandb.ai/debugzwang-none/GAN_MNIST/runs/51khkuh9' target=\"_blank\">https://wandb.ai/debugzwang-none/GAN_MNIST/runs/51khkuh9</a>"
      ]
     },
     "metadata": {},
     "output_type": "display_data"
    }
   ],
   "execution_count": 9
  },
  {
   "metadata": {
    "ExecuteTime": {
     "end_time": "2025-06-14T04:39:31.022475Z",
     "start_time": "2025-06-14T04:39:31.019929Z"
    }
   },
   "cell_type": "code",
   "source": [
    "# # codes from https://github.com/eriklindernoren/PyTorch-GAN/blob/master/implementations/gan/gan.py\n",
    "# class Generator(nn.Module):\n",
    "#     def __init__(self, latent_dim=128, img_shape=(1, 28, 28)):\n",
    "#         super(Generator, self).__init__()\n",
    "#         self.latent_dim = latent_dim\n",
    "#         self.img_shape = img_shape\n",
    "#         def block(in_feat, out_feat, normalize=True):\n",
    "#             layers = [nn.Linear(in_feat, out_feat)]\n",
    "#             if normalize:\n",
    "#                 layers.append(nn.BatchNorm1d(out_feat, 0.8))\n",
    "#             layers.append(nn.LeakyReLU(0.2, inplace=True))\n",
    "#             return layers\n",
    "# \n",
    "#         self.model = nn.Sequential(\n",
    "#             *block(latent_dim, 128, normalize=False),\n",
    "#             *block(128, 256),\n",
    "#             *block(256, 512),\n",
    "#             *block(512, 1024),\n",
    "#             nn.Linear(1024, int(np.prod(img_shape))),\n",
    "#             nn.Tanh()\n",
    "#         )\n",
    "# \n",
    "#     def forward(self, z):\n",
    "#         img = self.model(z)\n",
    "#         img = img.view(img.size(0), *self.img_shape)\n",
    "#         return img\n",
    "# \n",
    "# \n",
    "# class Discriminator(nn.Module):\n",
    "#     def __init__(self,img_shape=(1, 28, 28)):\n",
    "#         super(Discriminator, self).__init__()\n",
    "# \n",
    "#         self.model = nn.Sequential(\n",
    "#             nn.Linear(int(np.prod(img_shape)), 512),\n",
    "#             nn.LeakyReLU(0.2, inplace=True),\n",
    "#             nn.Linear(512, 256),\n",
    "#             nn.LeakyReLU(0.2, inplace=True),\n",
    "#             nn.Linear(256, 1),\n",
    "#             nn.Sigmoid(),\n",
    "#         )\n",
    "# \n",
    "#     def forward(self, img):\n",
    "#         img_flat = img.view(img.size(0), -1)\n",
    "#         validity = self.model(img_flat)\n",
    "#         return validity\n"
   ],
   "id": "85c31c69d13761e6",
   "outputs": [],
   "execution_count": 10
  },
  {
   "metadata": {
    "ExecuteTime": {
     "end_time": "2025-06-14T04:39:31.236982Z",
     "start_time": "2025-06-14T04:39:31.075298Z"
    }
   },
   "cell_type": "code",
   "source": [
    "generator = Generator(latent_dim)\n",
    "discriminator = Discriminator()\n",
    "generator.to(device)\n",
    "discriminator.to(device)\n",
    "optimizer_G = torch.optim.Adam(generator.parameters(), lr=lr, betas=(0.5,0.999))\n",
    "optimizer_D = torch.optim.Adam(discriminator.parameters(), lr=lr, betas=(0.5, 0.999))"
   ],
   "id": "e02235501fdd5ff",
   "outputs": [],
   "execution_count": 11
  },
  {
   "metadata": {
    "ExecuteTime": {
     "end_time": "2025-06-14T04:39:31.258472Z",
     "start_time": "2025-06-14T04:39:31.251263Z"
    }
   },
   "cell_type": "code",
   "source": [
    "def d_loss(d, real_imgs, fake_imgs):\n",
    "    log_real_validity = torch.log(d(real_imgs))\n",
    "    log_fake_validity = torch.log(1 - d(fake_imgs))\n",
    "    return -(log_real_validity.mean() + log_fake_validity.mean())\n",
    "\n",
    "def g_loss(d, fake_imgs,):\n",
    "    fake_validity = d(fake_imgs)\n",
    "    loss = torch.mean(torch.log(1-fake_validity))\n",
    "    return loss\n",
    "\n",
    "def train(\n",
    "        generator: Generator,\n",
    "        discriminator: Discriminator,\n",
    "        d_optimizer: torch.optim.Optimizer,\n",
    "        g_optimizer: torch.optim.Optimizer,\n",
    "        epochs: int,\n",
    "        device: str,\n",
    "        train_dataloader: DataLoader,\n",
    "        val_dataloader: DataLoader,\n",
    "        k: int = 5,\n",
    "):\n",
    "    adversarial_loss_fn=torch.nn.BCELoss()\n",
    "    for epoch in range(epochs):\n",
    "        print(f\"Epoch {epoch+1}/{epochs}\")\n",
    "        discriminator.eval()\n",
    "        generator.eval()\n",
    "        val_d_loss = 0\n",
    "        val_g_loss = 0\n",
    "        images = None\n",
    "        with torch.no_grad():\n",
    "            for index, (imgs, labels) in enumerate(val_dataloader):\n",
    "                imgs = imgs.to(device)\n",
    "                z = torch.randn(imgs.size(0), generator.latent_dim).to(device)\n",
    "                fake_imgs = generator(z)\n",
    "                d_loss_value = d_loss(discriminator, imgs, fake_imgs,)\n",
    "                g_loss_value = g_loss(discriminator, fake_imgs,)\n",
    "                val_d_loss += d_loss_value.item()\n",
    "                val_g_loss += g_loss_value.item()\n",
    "                if epoch % 10 == 0 and index == 0:\n",
    "                    z = torch.randn(imgs.size(0), generator.latent_dim).to(device)\n",
    "                    output = generator(z)\n",
    "                    images = [wandb.Image(output[i].squeeze(0).cpu().numpy()) for i in range(1)]\n",
    "        discriminator.train()\n",
    "        generator.train()\n",
    "        training_d_loss = 0\n",
    "        training_g_loss = 0\n",
    "        def train_generator(z):\n",
    "            g_optimizer.zero_grad()\n",
    "            fake_imgs = generator(z)\n",
    "            loss = g_loss(discriminator, fake_imgs)\n",
    "            loss.backward()\n",
    "            g_optimizer.step()\n",
    "            return loss.item()\n",
    "        def train_discriminator(real_imgs, fake_imgs):\n",
    "            d_optimizer.zero_grad()\n",
    "            loss = d_loss(discriminator, real_imgs, fake_imgs)\n",
    "            loss.backward()\n",
    "            d_optimizer.step()\n",
    "            return loss.item()\n",
    "        \n",
    "        for index, (imgs, _) in enumerate(train_dataloader):\n",
    "            imgs = imgs.to(device)\n",
    "            for _ in range(k):\n",
    "                z = torch.randn(imgs.size(0), generator.latent_dim).to(device)\n",
    "                fake_imgs = generator(z)\n",
    "                training_d_loss += train_discriminator(imgs, fake_imgs.detach()) / k\n",
    "            \n",
    "            z = torch.randn(imgs.size(0), generator.latent_dim).to(device)  \n",
    "            training_g_loss += train_generator(z)\n",
    "            \n",
    "        # 创建一个表格，其中每行代表一个 embedding\n",
    "        log_data = {\n",
    "            \"epoch\": epoch,\n",
    "            \"training_d_loss\": training_d_loss / len(train_dataloader),\n",
    "            \"training_g_loss\": training_g_loss / len(train_dataloader),\n",
    "            \"validation_d_loss\": val_d_loss / len(val_dataloader),\n",
    "            \"validation_g_loss\": val_g_loss / len(val_dataloader),\n",
    "            \n",
    "        }\n",
    "        if images is not None:\n",
    "            log_data[\"validation_images\"] = images\n",
    "        wandb.log(log_data)\n",
    "        "
   ],
   "id": "658e752a02030941",
   "outputs": [],
   "execution_count": 12
  },
  {
   "metadata": {
    "ExecuteTime": {
     "end_time": "2025-06-14T04:39:31.317642Z",
     "start_time": "2025-06-14T04:39:31.297904Z"
    }
   },
   "cell_type": "code",
   "source": [
    "def weights_init_normal(m):\n",
    "    classname = m.__class__.__name__\n",
    "    if classname.find('Linear') != -1:\n",
    "        nn.init.normal_(m.weight.data, mean=0.0, std=0.02)\n",
    "        if m.bias is not None:\n",
    "            nn.init.constant_(m.bias.data, 0)\n",
    "for model in [generator, discriminator]:\n",
    "    model.apply(weights_init_normal)\n",
    "    print(f\"Initialized {model.__class__.__name__} weights.\")"
   ],
   "id": "fd5e00573b915e39",
   "outputs": [
    {
     "name": "stdout",
     "output_type": "stream",
     "text": [
      "Initialized Generator weights.\n",
      "Initialized Discriminator weights.\n"
     ]
    }
   ],
   "execution_count": 13
  },
  {
   "metadata": {
    "ExecuteTime": {
     "end_time": "2025-06-14T04:39:31.355954Z",
     "start_time": "2025-06-14T04:39:31.347977Z"
    }
   },
   "cell_type": "code",
   "source": [
    "from torch.utils.data import random_split\n",
    "\n",
    "# Assuming mnist_data and mnist_label are already defined\n",
    "dataset = MNISTDataset(mnist_data, mnist_label, transform=transform)\n",
    "\n",
    "# Define the lengths for training and validation sets\n",
    "train_size = 50000\n",
    "val_size = 10000\n",
    "# train_size = 500\n",
    "# val_size = 100\n",
    "test_size = len(dataset) - train_size - val_size\n",
    "# Split the dataset\n",
    "train_dataset, val_dataset, test_dataset = random_split(dataset, [train_size, val_size, test_size])\n",
    "\n",
    "# Now you can use train_dataset and val_dataset with DataLoader\n",
    "train_loader = DataLoader(train_dataset, batch_size=batch_size, num_workers=num_workers, shuffle=True)\n",
    "val_loader = DataLoader(val_dataset, batch_size=batch_size, num_workers=num_workers, shuffle=False)\n",
    "test_loader = DataLoader(test_dataset, batch_size=batch_size, num_workers=num_workers, shuffle=False)"
   ],
   "id": "9cb0547368bc3225",
   "outputs": [],
   "execution_count": 14
  },
  {
   "metadata": {
    "ExecuteTime": {
     "end_time": "2025-06-14T04:40:29.808229Z",
     "start_time": "2025-06-14T04:39:31.396183Z"
    }
   },
   "cell_type": "code",
   "source": [
    "train(\n",
    "    generator=generator,\n",
    "    discriminator=discriminator,\n",
    "    g_optimizer=optimizer_G,\n",
    "    d_optimizer=optimizer_D,\n",
    "    epochs=EPOCHS,\n",
    "    device=device,\n",
    "    train_dataloader=train_loader,\n",
    "    val_dataloader=val_loader,\n",
    "    k=k\n",
    ")"
   ],
   "id": "323073fbb2c1269e",
   "outputs": [
    {
     "name": "stdout",
     "output_type": "stream",
     "text": [
      "Epoch 1/10\n",
      "Epoch 2/10\n",
      "Epoch 3/10\n",
      "Epoch 4/10\n",
      "Epoch 5/10\n",
      "Epoch 6/10\n",
      "Epoch 7/10\n",
      "Epoch 8/10\n",
      "Epoch 9/10\n",
      "Epoch 10/10\n"
     ]
    }
   ],
   "execution_count": 15
  },
  {
   "metadata": {
    "ExecuteTime": {
     "end_time": "2025-06-14T04:40:29.839796Z",
     "start_time": "2025-06-14T04:40:29.836972Z"
    }
   },
   "cell_type": "code",
   "source": "# torch.save(model.state_dict(), f\"/mnt/d/data/mnist_model/vqvae_lr_{lr}_nembedding_{n_embedding}_embedding_dim_{embedding_dim}_beta_{beta}.pth\")",
   "id": "5a025bfc5ef40392",
   "outputs": [],
   "execution_count": 16
  },
  {
   "metadata": {
    "ExecuteTime": {
     "end_time": "2025-06-14T04:40:29.901467Z",
     "start_time": "2025-06-14T04:40:29.897651Z"
    }
   },
   "cell_type": "code",
   "source": [
    "from matplotlib import pyplot as plt\n",
    "import torchvision.utils as vutils\n",
    "def show_images(images):\n",
    "    grid = vutils.make_grid(images, nrow=4, padding=2, normalize=True)\n",
    "    plt.figure(figsize=(8,8))\n",
    "    plt.imshow(grid.permute(1, 2, 0).cpu(), cmap='gray')  # 调整维度顺序\n",
    "    plt.axis('off')\n",
    "    plt.show()\n",
    "    plt.close()"
   ],
   "id": "cc5bcc32f6be3fc8",
   "outputs": [],
   "execution_count": 17
  },
  {
   "metadata": {
    "ExecuteTime": {
     "end_time": "2025-06-14T04:40:30.010025Z",
     "start_time": "2025-06-14T04:40:29.957126Z"
    }
   },
   "cell_type": "code",
   "source": [
    "z = torch.randn(16, generator.latent_dim).to(device)\n",
    "with torch.no_grad():\n",
    "    generated_images = generator(z)\n",
    "show_images(generated_images.cpu().detach())\n"
   ],
   "id": "2c02ee4b8ab933fb",
   "outputs": [
    {
     "data": {
      "text/plain": [
       "<Figure size 800x800 with 1 Axes>"
      ],
      "image/png": "[encoded data removed]"
     },
     "metadata": {},
     "output_type": "display_data"
    }
   ],
   "execution_count": 18
  },
  {
   "metadata": {
    "ExecuteTime": {
     "end_time": "2025-06-14T04:40:30.199934Z",
     "start_time": "2025-06-14T04:40:30.062618Z"
    }
   },
   "cell_type": "code",
   "source": [
    "import os\n",
    "os.makedirs(f\"/mnt/d/data/mnist_model/GAN\", exist_ok=True)\n",
    "torch.save(generator.state_dict(), f\"/mnt/d/data/mnist_model/GAN/g_lr_{lr}_epoch_{EPOCHS}_latent{latent_dim}_k_{k}.pth\")\n",
    "torch.save(discriminator.state_dict(), f\"/mnt/d/data/mnist_model/GAN/d_lr_{lr}_epoch_{EPOCHS}_latent{latent_dim}_k_{k}.pth\")"
   ],
   "id": "abbe981ac0501c8f",
   "outputs": [],
   "execution_count": 19
  },
  {
   "metadata": {
    "ExecuteTime": {
     "end_time": "2025-06-14T04:40:30.205429Z",
     "start_time": "2025-06-14T04:40:30.203646Z"
    }
   },
   "cell_type": "code",
   "source": "",
   "id": "4f7b4a53579483bb",
   "outputs": [],
   "execution_count": null
  }
 ],
 "metadata": {
  "kernelspec": {
   "display_name": "Python 3",
   "language": "python",
   "name": "python3"
  },
  "language_info": {
   "codemirror_mode": {
    "name": "ipython",
    "version": 2
   },
   "file_extension": ".py",
   "mimetype": "text/x-python",
   "name": "python",
   "nbconvert_exporter": "python",
   "pygments_lexer": "ipython2",
   "version": "2.7.6"
  }
 },
 "nbformat": 4,
 "nbformat_minor": 5
}
