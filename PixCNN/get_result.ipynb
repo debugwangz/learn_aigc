{
 "cells": [
  {
   "cell_type": "code",
   "id": "initial_id",
   "metadata": {
    "collapsed": true,
    "ExecuteTime": {
     "end_time": "2025-06-08T05:52:26.990802Z",
     "start_time": "2025-06-08T05:52:25.634372Z"
    }
   },
   "source": [
    "import torch\n",
    "import numpy as np\n",
    "import random\n",
    "from torch.utils.data import Dataset, DataLoader\n",
    "from scipy.io import loadmat\n",
    "from pixcnn import *"
   ],
   "outputs": [],
   "execution_count": 1
  },
  {
   "metadata": {
    "ExecuteTime": {
     "end_time": "2025-06-08T05:52:27.068509Z",
     "start_time": "2025-06-08T05:52:26.994134Z"
    }
   },
   "cell_type": "code",
   "source": [
    "def set_seed(seed):\n",
    "    random.seed(seed)\n",
    "    np.random.seed(seed)\n",
    "    torch.manual_seed(seed)\n",
    "    if torch.cuda.is_available():\n",
    "        torch.cuda.manual_seed(seed)\n",
    "        torch.cuda.manual_seed_all(seed)\n",
    "    torch.backends.cudnn.deterministic = True\n",
    "    torch.backends.cudnn.benchmark = False\n",
    "\n",
    "# Set the seed\n",
    "set_seed(42)\n",
    "device = 'cuda' if torch.cuda.is_available() else 'cpu'\n"
   ],
   "id": "9b7d32d2b6e5fe4a",
   "outputs": [],
   "execution_count": 2
  },
  {
   "metadata": {
    "ExecuteTime": {
     "end_time": "2025-06-08T05:52:27.434846Z",
     "start_time": "2025-06-08T05:52:27.431890Z"
    }
   },
   "cell_type": "code",
   "source": [
    "class MNISTDataset(Dataset):\n",
    "    def __init__(self, data, label, transform=None):\n",
    "        self.data = data\n",
    "        self.label = label\n",
    "        self.transform = transform\n",
    "    def __len__(self):\n",
    "        return len(self.data)\n",
    "\n",
    "    def __getitem__(self, idx):\n",
    "        return self.transform(self.data[idx]), self.label[idx]"
   ],
   "id": "1ed697aa6b5162f2",
   "outputs": [],
   "execution_count": 3
  },
  {
   "metadata": {
    "ExecuteTime": {
     "end_time": "2025-06-08T05:52:27.951452Z",
     "start_time": "2025-06-08T05:52:27.755226Z"
    }
   },
   "cell_type": "code",
   "source": [
    "mnist = loadmat(\"../mnist-original.mat/mnist-original.mat\")\n",
    "mnist_data = mnist[\"data\"].T\n",
    "mnist_label = mnist[\"label\"][0]"
   ],
   "id": "23b29e071c176ac0",
   "outputs": [],
   "execution_count": 4
  },
  {
   "metadata": {
    "ExecuteTime": {
     "end_time": "2025-06-08T05:52:49.236006Z",
     "start_time": "2025-06-08T05:52:49.093870Z"
    }
   },
   "cell_type": "code",
   "source": [
    "EPOCHS = 100\n",
    "batch_size = 64\n",
    "num_workers = 8\n",
    "lr = 5e-4\n",
    "\n",
    "model = PixelCNN().to(device)\n"
   ],
   "id": "14fbff80a4280cde",
   "outputs": [],
   "execution_count": 5
  },
  {
   "metadata": {
    "ExecuteTime": {
     "end_time": "2025-06-08T05:52:53.313027Z",
     "start_time": "2025-06-08T05:52:52.272458Z"
    }
   },
   "cell_type": "code",
   "source": [
    "from matplotlib import pyplot as plt\n",
    "import torchvision.utils as vutils\n",
    "def show_images(images):\n",
    "    grid = vutils.make_grid(images, nrow=4, padding=2, normalize=True)\n",
    "    plt.figure(figsize=(8,8))\n",
    "    plt.imshow(grid.permute(1, 2, 0).cpu(), cmap='gray')  # 调整维度顺序\n",
    "    plt.axis('off')\n",
    "    plt.show()\n",
    "    plt.close()"
   ],
   "id": "1e1421ea5d340074",
   "outputs": [],
   "execution_count": 6
  },
  {
   "metadata": {
    "ExecuteTime": {
     "end_time": "2025-06-08T05:53:32.191538Z",
     "start_time": "2025-06-08T05:53:32.154736Z"
    }
   },
   "cell_type": "code",
   "source": [
    "device = \"cuda\" if torch.cuda.is_available() else \"cpu\"\n",
    "model.load_state_dict(torch.load( f\"/mnt/d/data/mnist_model/pixcnn_lr_{lr}_epoch_{EPOCHS}.pth\", map_location=device))\n"
   ],
   "id": "f2b4f3afd7b19387",
   "outputs": [
    {
     "name": "stderr",
     "output_type": "stream",
     "text": [
      "/tmp/ipykernel_195273/3841836252.py:2: FutureWarning: You are using `torch.load` with `weights_only=False` (the current default value), which uses the default pickle module implicitly. It is possible to construct malicious pickle data which will execute arbitrary code during unpickling (See https://github.com/pytorch/pytorch/blob/main/SECURITY.md#untrusted-models for more details). In a future release, the default value for `weights_only` will be flipped to `True`. This limits the functions that could be executed during unpickling. Arbitrary objects will no longer be allowed to be loaded via this mode unless they are explicitly allowlisted by the user via `torch.serialization.add_safe_globals`. We recommend you start setting `weights_only=True` for any use case where you don't have full control of the loaded file. Please open an issue on GitHub for any issues related to this experimental feature.\n",
      "  model.load_state_dict(torch.load( f\"/mnt/d/data/mnist_model/pixcnn_lr_{lr}_epoch_{EPOCHS}.pth\", map_location=device))\n"
     ]
    },
    {
     "data": {
      "text/plain": [
       "<All keys matched successfully>"
      ]
     },
     "execution_count": 7,
     "metadata": {},
     "output_type": "execute_result"
    }
   ],
   "execution_count": 7
  },
  {
   "metadata": {
    "ExecuteTime": {
     "end_time": "2025-06-08T05:53:36.346185Z",
     "start_time": "2025-06-08T05:53:36.339744Z"
    }
   },
   "cell_type": "code",
   "source": [
    "from torch.utils.data import random_split\n",
    "from torchvision import transforms\n",
    "\n",
    "transform = transforms.Compose([\n",
    "    transforms.Lambda(lambda x: x.reshape(28, 28)),\n",
    "    transforms.ToTensor(),\n",
    "    transforms.Pad((2, 2, 2, 2))  # Pad to 32x32\n",
    "])\n",
    "# Assuming mnist_data and mnist_label are already defined\n",
    "dataset = MNISTDataset(mnist_data, mnist_label, transform=transform)\n",
    "\n",
    "# Define the lengths for training and validation sets\n",
    "train_size = 50000\n",
    "val_size = 10000\n",
    "# train_size = 500\n",
    "# val_size = 100\n",
    "test_size = len(dataset) - train_size - val_size\n",
    "# Split the dataset\n",
    "train_dataset, val_dataset, test_dataset = random_split(dataset, [train_size, val_size, test_size])\n",
    "\n",
    "# Now you can use train_dataset and val_dataset with DataLoader\n",
    "train_loader = DataLoader(train_dataset, batch_size=batch_size, num_workers=num_workers, shuffle=True)\n",
    "val_loader = DataLoader(val_dataset, batch_size=batch_size, num_workers=num_workers, shuffle=False)\n",
    "test_loader = DataLoader(test_dataset, batch_size=batch_size, num_workers=num_workers, shuffle=False)"
   ],
   "id": "c4c9bcfdb2765753",
   "outputs": [],
   "execution_count": 8
  },
  {
   "metadata": {
    "ExecuteTime": {
     "end_time": "2025-06-08T06:11:50.500482Z",
     "start_time": "2025-06-08T05:56:39.176574Z"
    }
   },
   "cell_type": "code",
   "source": [
    "result = torch.empty(10000, 1, 32, 32)\n",
    "H, W, C = 32, 32, 1\n",
    "\n",
    "with torch.no_grad():\n",
    "    model.eval()\n",
    "    for i in range(100):\n",
    "        print(f\"Generating batch {i+1}/100\")\n",
    "        output = torch.zeros(100, C, H, W).to(device)\n",
    "        for h in range(H):\n",
    "            for w in range(W):\n",
    "                for c in range(C):\n",
    "                    # Feed the whole array and retrieving the pixel value probabilities for the next pixel.\n",
    "                    logits = model(output)[:, c, h, w]\n",
    "                    probs = logits.sigmoid()\n",
    "                    # Use the probabilities to pick pixel values and append the values to the image frame.\n",
    "                    output[:, c, h, w] = torch.bernoulli(probs)\n",
    "        result[i*100:(i+1)*100] = output"
   ],
   "id": "e360dd15d5f075ff",
   "outputs": [
    {
     "name": "stdout",
     "output_type": "stream",
     "text": [
      "Generating batch 1/100\n",
      "Generating batch 2/100\n",
      "Generating batch 3/100\n",
      "Generating batch 4/100\n",
      "Generating batch 5/100\n",
      "Generating batch 6/100\n",
      "Generating batch 7/100\n",
      "Generating batch 8/100\n",
      "Generating batch 9/100\n",
      "Generating batch 10/100\n",
      "Generating batch 11/100\n",
      "Generating batch 12/100\n",
      "Generating batch 13/100\n",
      "Generating batch 14/100\n",
      "Generating batch 15/100\n",
      "Generating batch 16/100\n",
      "Generating batch 17/100\n",
      "Generating batch 18/100\n",
      "Generating batch 19/100\n",
      "Generating batch 20/100\n",
      "Generating batch 21/100\n",
      "Generating batch 22/100\n",
      "Generating batch 23/100\n",
      "Generating batch 24/100\n",
      "Generating batch 25/100\n",
      "Generating batch 26/100\n",
      "Generating batch 27/100\n",
      "Generating batch 28/100\n",
      "Generating batch 29/100\n",
      "Generating batch 30/100\n",
      "Generating batch 31/100\n",
      "Generating batch 32/100\n",
      "Generating batch 33/100\n",
      "Generating batch 34/100\n",
      "Generating batch 35/100\n",
      "Generating batch 36/100\n",
      "Generating batch 37/100\n",
      "Generating batch 38/100\n",
      "Generating batch 39/100\n",
      "Generating batch 40/100\n",
      "Generating batch 41/100\n",
      "Generating batch 42/100\n",
      "Generating batch 43/100\n",
      "Generating batch 44/100\n",
      "Generating batch 45/100\n",
      "Generating batch 46/100\n",
      "Generating batch 47/100\n",
      "Generating batch 48/100\n",
      "Generating batch 49/100\n",
      "Generating batch 50/100\n",
      "Generating batch 51/100\n",
      "Generating batch 52/100\n",
      "Generating batch 53/100\n",
      "Generating batch 54/100\n",
      "Generating batch 55/100\n",
      "Generating batch 56/100\n",
      "Generating batch 57/100\n",
      "Generating batch 58/100\n",
      "Generating batch 59/100\n",
      "Generating batch 60/100\n",
      "Generating batch 61/100\n",
      "Generating batch 62/100\n",
      "Generating batch 63/100\n",
      "Generating batch 64/100\n",
      "Generating batch 65/100\n",
      "Generating batch 66/100\n",
      "Generating batch 67/100\n",
      "Generating batch 68/100\n",
      "Generating batch 69/100\n",
      "Generating batch 70/100\n",
      "Generating batch 71/100\n",
      "Generating batch 72/100\n",
      "Generating batch 73/100\n",
      "Generating batch 74/100\n",
      "Generating batch 75/100\n",
      "Generating batch 76/100\n",
      "Generating batch 77/100\n",
      "Generating batch 78/100\n",
      "Generating batch 79/100\n",
      "Generating batch 80/100\n",
      "Generating batch 81/100\n",
      "Generating batch 82/100\n",
      "Generating batch 83/100\n",
      "Generating batch 84/100\n",
      "Generating batch 85/100\n",
      "Generating batch 86/100\n",
      "Generating batch 87/100\n",
      "Generating batch 88/100\n",
      "Generating batch 89/100\n",
      "Generating batch 90/100\n",
      "Generating batch 91/100\n",
      "Generating batch 92/100\n",
      "Generating batch 93/100\n",
      "Generating batch 94/100\n",
      "Generating batch 95/100\n",
      "Generating batch 96/100\n",
      "Generating batch 97/100\n",
      "Generating batch 98/100\n",
      "Generating batch 99/100\n",
      "Generating batch 100/100\n"
     ]
    }
   ],
   "execution_count": 10
  },
  {
   "metadata": {
    "ExecuteTime": {
     "end_time": "2025-06-08T06:12:58.181148Z",
     "start_time": "2025-06-08T06:11:50.504814Z"
    }
   },
   "cell_type": "code",
   "source": [
    "import tifffile as tif\n",
    "import os\n",
    "result_dir = \"/mnt/d/data/mnist_result/pixcnn_result/\"\n",
    "os.makedirs(result_dir, exist_ok=True)\n",
    "from os.path import join as ospj\n",
    "for i in range(result.shape[0]):\n",
    "    tif.imwrite(ospj(result_dir, f\"{str(i).zfill(5)}.tif\"), result[i][0, 2:-2, 2:-2].squeeze().cpu().numpy())\n",
    "    "
   ],
   "id": "fc3e5a0b39794f27",
   "outputs": [],
   "execution_count": 11
  },
  {
   "metadata": {
    "ExecuteTime": {
     "end_time": "2025-06-08T06:15:23.782099Z",
     "start_time": "2025-06-08T06:12:58.238494Z"
    }
   },
   "cell_type": "code",
   "source": [
    "test_dir = \"/mnt/d/data/mnist_result/test_sample/\"\n",
    "result_dir = \"/mnt/d/data/mnist_result/pixcnn_result/\"\n",
    "import torchvision.transforms as transforms\n",
    "\n",
    "real_images_folder = test_dir\n",
    "# generated_images_folder = './FID_app3'\n",
    "generated_images_folder = result_dir\n",
    "import torch\n",
    "import torchvision\n",
    "from pytorch_fid import fid_score\n",
    "\n",
    "inception_model = torchvision.models.inception_v3(pretrained=True)\n",
    "\n",
    "fid_value = fid_score.calculate_fid_given_paths([real_images_folder, generated_images_folder],\n",
    "                                                batch_size=50,\n",
    "                                                device=torch.device('cuda' if torch.cuda.is_available() else 'cpu'),\n",
    "                                                dims=2048                                                 \n",
    "                                                )\n",
    "print(\"FID score:\", fid_value)\n"
   ],
   "id": "2c535fa54b31a72",
   "outputs": [
    {
     "name": "stderr",
     "output_type": "stream",
     "text": [
      "/home/debugwang/anaconda3/envs/py312/lib/python3.10/site-packages/torchvision/models/_utils.py:208: UserWarning: The parameter 'pretrained' is deprecated since 0.13 and may be removed in the future, please use 'weights' instead.\n",
      "  warnings.warn(\n",
      "/home/debugwang/anaconda3/envs/py312/lib/python3.10/site-packages/torchvision/models/_utils.py:223: UserWarning: Arguments other than a weight enum or `None` for 'weights' are deprecated since 0.13 and may be removed in the future. The current behavior is equivalent to passing `weights=Inception_V3_Weights.IMAGENET1K_V1`. You can also use `weights=Inception_V3_Weights.DEFAULT` to get the most up-to-date weights.\n",
      "  warnings.warn(msg)\n",
      "100%|██████████| 200/200 [01:13<00:00,  2.73it/s]\n",
      "100%|██████████| 200/200 [01:05<00:00,  3.03it/s]\n"
     ]
    },
    {
     "name": "stdout",
     "output_type": "stream",
     "text": [
      "FID score: 5.982401717675742\n"
     ]
    }
   ],
   "execution_count": 12
  },
  {
   "metadata": {},
   "cell_type": "code",
   "outputs": [],
   "execution_count": null,
   "source": "",
   "id": "f33da6adaca8ec00"
  }
 ],
 "metadata": {
  "kernelspec": {
   "display_name": "Python 3",
   "language": "python",
   "name": "python3"
  },
  "language_info": {
   "codemirror_mode": {
    "name": "ipython",
    "version": 2
   },
   "file_extension": ".py",
   "mimetype": "text/x-python",
   "name": "python",
   "nbconvert_exporter": "python",
   "pygments_lexer": "ipython2",
   "version": "2.7.6"
  }
 },
 "nbformat": 4,
 "nbformat_minor": 5
}
