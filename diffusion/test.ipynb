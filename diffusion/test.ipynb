{
 "cells": [
  {
   "cell_type": "code",
   "id": "initial_id",
   "metadata": {
    "collapsed": true,
    "ExecuteTime": {
     "end_time": "2025-02-16T07:27:32.907116Z",
     "start_time": "2025-02-16T07:27:30.535916Z"
    }
   },
   "source": [
    "import torchvision\n",
    "import torchvision.transforms as transforms\n",
    "import torch.nn as nn\n",
    "import torch\n",
    "from PIL import Image\n",
    "from matplotlib.pyplot import figure\n",
    "from torch.utils.data import DataLoader\n",
    "import tqdm\n",
    "import matplotlib.pyplot as plt\n",
    "import math\n",
    "import einops\n",
    "import random, os\n",
    "import numpy as np\n",
    "from torchvision.utils import make_grid\n"
   ],
   "outputs": [],
   "execution_count": 1
  },
  {
   "metadata": {
    "ExecuteTime": {
     "end_time": "2025-02-16T07:27:32.917183Z",
     "start_time": "2025-02-16T07:27:32.915159Z"
    }
   },
   "cell_type": "code",
   "source": [
    "batch_size = 64\n",
    "num_workers = 8\n"
   ],
   "id": "7c9ccf7e2e180a6a",
   "outputs": [],
   "execution_count": 2
  },
  {
   "metadata": {
    "ExecuteTime": {
     "end_time": "2025-02-16T07:27:33.798869Z",
     "start_time": "2025-02-16T07:27:33.167136Z"
    }
   },
   "cell_type": "code",
   "source": [
    "class CifarTransformation:    \n",
    "    def __call__(self, tensor: torch.Tensor):\n",
    "        return (tensor * 127.5 + 127.5).long().clip(0,255).permute(1,2,0).detach().cpu().numpy()\n",
    "\n",
    "transform_to_tensor = transforms.Compose([\n",
    "    transforms.ToTensor(),\n",
    "    transforms.Normalize((.5,.5,.5), (.5,.5,.5))\n",
    "])\n",
    "transform_to_pil = CifarTransformation()\n",
    "train_dataset = torchvision.datasets.CIFAR10(root=\"/home/debugwang/data/CIFAR10/\", download=False, transform=transform_to_tensor)\n",
    "train_dataloader = DataLoader(train_dataset, batch_size=batch_size, shuffle=True, num_workers=num_workers)\n",
    "\n",
    "val_dataset = torchvision.datasets.CIFAR10(root=\"/home/debugwang/data/CIFAR10/\", download=False, transform=transform_to_tensor, train=False)\n",
    "val_dataloader = DataLoader(val_dataset, batch_size=batch_size, shuffle=True, num_workers=num_workers)\n"
   ],
   "id": "8c3e2ffeeee02bad",
   "outputs": [],
   "execution_count": 3
  },
  {
   "metadata": {
    "ExecuteTime": {
     "end_time": "2025-02-16T07:27:36.893756Z",
     "start_time": "2025-02-16T07:27:33.811471Z"
    }
   },
   "cell_type": "code",
   "source": [
    "\n",
    "# Create a directory to save the images\n",
    "save_dir = \"/home/debugwang/data/CIFAR10/pid_real/\"\n",
    "os.makedirs(save_dir, exist_ok=True)\n",
    "\n",
    "# Iterate through the validation dataset and save each image\n",
    "for idx, (img, label) in enumerate(val_dataset):\n",
    "    # Convert the tensor to a PIL image\n",
    "    # pil_img = transform_to_pil(img)\n",
    "    img = transform_to_pil(img).astype(np.uint8)\n",
    "\n",
    "    pil_img = Image.fromarray(img)\n",
    "\n",
    "    # Save the image\n",
    "    pil_img.save(os.path.join(save_dir, f\"image_{idx}.png\"))"
   ],
   "id": "89187ba0078e4622",
   "outputs": [],
   "execution_count": 4
  },
  {
   "metadata": {
    "ExecuteTime": {
     "end_time": "2025-02-16T07:27:36.926990Z",
     "start_time": "2025-02-16T07:27:36.906159Z"
    }
   },
   "cell_type": "code",
   "source": [
    "\n",
    "# Define the dataset and transformations\n",
    "# transform = transforms.Compose([\n",
    "#     transforms.ToTensor(),\n",
    "# ])\n",
    "\n",
    "# Visualize a batch of images\n",
    "images, label = next(iter(train_dataset))\n",
    "print(f\"Batch Image Shape: {images.shape}\")\n",
    "\n",
    "# Show the first image in the batch\n",
    "plt.imshow(images[0].permute(1, 2, 0))  # Convert to HxWxC for visualization\n",
    "plt.title(\"First Image in Batch\")\n",
    "plt.show()\n",
    "print(label[0])\n",
    "plt.show()"
   ],
   "id": "4026890ce8ff7341",
   "outputs": [
    {
     "name": "stdout",
     "output_type": "stream",
     "text": [
      "Batch Image Shape: torch.Size([3, 32, 32])\n"
     ]
    },
    {
     "ename": "RuntimeError",
     "evalue": "permute(sparse_coo): number of dimensions in the tensor input does not match the length of the desired ordering of dimensions i.e. input.dim() = 2 is not equal to len(dims) = 3",
     "output_type": "error",
     "traceback": [
      "\u001B[0;31m---------------------------------------------------------------------------\u001B[0m",
      "\u001B[0;31mRuntimeError\u001B[0m                              Traceback (most recent call last)",
      "Cell \u001B[0;32mIn[5], line 11\u001B[0m\n\u001B[1;32m      8\u001B[0m \u001B[38;5;28mprint\u001B[39m(\u001B[38;5;124mf\u001B[39m\u001B[38;5;124m\"\u001B[39m\u001B[38;5;124mBatch Image Shape: \u001B[39m\u001B[38;5;132;01m{\u001B[39;00mimages\u001B[38;5;241m.\u001B[39mshape\u001B[38;5;132;01m}\u001B[39;00m\u001B[38;5;124m\"\u001B[39m)\n\u001B[1;32m     10\u001B[0m \u001B[38;5;66;03m# Show the first image in the batch\u001B[39;00m\n\u001B[0;32m---> 11\u001B[0m plt\u001B[38;5;241m.\u001B[39mimshow(\u001B[43mimages\u001B[49m\u001B[43m[\u001B[49m\u001B[38;5;241;43m0\u001B[39;49m\u001B[43m]\u001B[49m\u001B[38;5;241;43m.\u001B[39;49m\u001B[43mpermute\u001B[49m\u001B[43m(\u001B[49m\u001B[38;5;241;43m1\u001B[39;49m\u001B[43m,\u001B[49m\u001B[43m \u001B[49m\u001B[38;5;241;43m2\u001B[39;49m\u001B[43m,\u001B[49m\u001B[43m \u001B[49m\u001B[38;5;241;43m0\u001B[39;49m\u001B[43m)\u001B[49m)  \u001B[38;5;66;03m# Convert to HxWxC for visualization\u001B[39;00m\n\u001B[1;32m     12\u001B[0m plt\u001B[38;5;241m.\u001B[39mtitle(\u001B[38;5;124m\"\u001B[39m\u001B[38;5;124mFirst Image in Batch\u001B[39m\u001B[38;5;124m\"\u001B[39m)\n\u001B[1;32m     13\u001B[0m plt\u001B[38;5;241m.\u001B[39mshow()\n",
      "\u001B[0;31mRuntimeError\u001B[0m: permute(sparse_coo): number of dimensions in the tensor input does not match the length of the desired ordering of dimensions i.e. input.dim() = 2 is not equal to len(dims) = 3"
     ]
    }
   ],
   "execution_count": 5
  },
  {
   "metadata": {
    "ExecuteTime": {
     "end_time": "2025-02-16T07:27:50.070777Z",
     "start_time": "2025-02-16T07:27:50.065829Z"
    }
   },
   "cell_type": "code",
   "source": [
    "class DDPM(nn.Module):\n",
    "    def __init__(\n",
    "        self,\n",
    "        T: int,\n",
    "        eps_model: nn.Module,\n",
    "        device: str\n",
    "    ):\n",
    "        super().__init__()\n",
    "        self.T = T\n",
    "        self.eps_model = eps_model.to(device)\n",
    "        self.device = device\n",
    "        beta_schedule = torch.linspace(1e-4, 0.02, T + 1, device=device)\n",
    "        alpha_t_schedule = 1 - beta_schedule\n",
    "        bar_alpha_t_schedule = torch.cumprod(alpha_t_schedule.detach().cpu(), 0).to(device)\n",
    "        sqrt_bar_alpha_t_schedule = torch.sqrt(bar_alpha_t_schedule)\n",
    "        sqrt_minus_bar_alpha_t_schedule = torch.sqrt(1 - bar_alpha_t_schedule)\n",
    "        self.register_buffer(\"beta_schedule\", beta_schedule)\n",
    "        self.register_buffer(\"alpha_t_schedule\", alpha_t_schedule)\n",
    "        self.register_buffer(\"bar_alpha_t_schedule\", bar_alpha_t_schedule)\n",
    "        self.register_buffer(\"sqrt_bar_alpha_t_schedule\", sqrt_bar_alpha_t_schedule)\n",
    "        self.register_buffer(\"sqrt_minus_bar_alpha_t_schedule\", sqrt_minus_bar_alpha_t_schedule)\n",
    "        self.criterion = nn.MSELoss()\n",
    "\n",
    "    def forward(self, imgs):\n",
    "        # random choose some time steps\n",
    "        t = torch.randint(low=1, high=self.T+1, size=(imgs.shape[0],), device=self.device)\n",
    "\n",
    "        # get random noise to add it to the images\n",
    "        noise = torch.randn_like(imgs, device=self.device)\n",
    "\n",
    "        # get noise image as: sqrt(alpha_t_bar) * x0 + noise * sqrt(1 - alpha_t_bar)\n",
    "        batch_size, channels, width, height = imgs.shape\n",
    "        noise_imgs = self.sqrt_bar_alpha_t_schedule[t].view((batch_size, 1, 1 ,1)) * imgs \\\n",
    "            + self.sqrt_minus_bar_alpha_t_schedule[t].view((batch_size, 1, 1, 1)) * noise\n",
    "        \n",
    "        # get predicted noise from our model\n",
    "        pred_noise = self.eps_model(noise_imgs, t.unsqueeze(1))\n",
    "\n",
    "        # calculate of Loss simple ||noise - pred_noise||^2, which is MSELoss\n",
    "        return self.criterion(pred_noise, noise)\n",
    "    \n",
    "    def sample(self, n_samples, size):\n",
    "        self.eval()\n",
    "        with torch.no_grad():\n",
    "            # get normal noise\n",
    "            x_t = torch.randn(n_samples, *size, device=self.device)\n",
    "            # calculate x_(t-1) on every iteration\n",
    "            for t in range(self.T, 0, -1):\n",
    "                t_tensor = torch.tensor([t], device=self.device).repeat(x_t.shape[0], 1)\n",
    "                # get predicted noise from model\n",
    "                pred_noise = self.eps_model(x_t, t_tensor)\n",
    "\n",
    "                # get some noise to calculate x_(t-1) as in formula (How to get a Noise)\n",
    "                # for t = 0, noise should be 0\n",
    "                z = torch.randn_like(x_t, device=self.device) if t > 0 else 0\n",
    "\n",
    "                # Formula from How to get sample\n",
    "                # x_(t-1) = 1 / sqrt(alpha_t) * (x_t - pred_noise * (1 - alpha_t) / sqrt(1 - alpha_t_bar)) + beta_t * eps\n",
    "                x_t = 1 / torch.sqrt(self.alpha_t_schedule[t]) * \\\n",
    "                    (x_t - pred_noise * (1 - self.alpha_t_schedule[t]) / self.sqrt_minus_bar_alpha_t_schedule[t]) + \\\n",
    "                    torch.sqrt(self.beta_schedule[t]) * z\n",
    "            return x_t"
   ],
   "id": "76a0f7275c9b085a",
   "outputs": [],
   "execution_count": 6
  },
  {
   "metadata": {
    "ExecuteTime": {
     "end_time": "2025-02-16T07:27:50.908383Z",
     "start_time": "2025-02-16T07:27:50.904688Z"
    }
   },
   "cell_type": "code",
   "source": [
    "def train(\n",
    "    model: DDPM,\n",
    "    optimizer: torch.optim.Optimizer,\n",
    "    epochs: int,\n",
    "    device: str,\n",
    "    train_dataloader: DataLoader,\n",
    "    val_dataloader: DataLoader\n",
    "):\n",
    "    training_losses = []\n",
    "    val_losses = []\n",
    "    for epoch in range(epochs):\n",
    "        model.train(True)\n",
    "        training_loss = 0\n",
    "        val_loss = 0\n",
    "        pbar = tqdm.tqdm(train_dataloader)\n",
    "        for index, (imgs, labels) in enumerate(pbar):\n",
    "            optimizer.zero_grad()\n",
    "            \n",
    "            imgs = imgs.to(device)\n",
    "    \n",
    "            loss = model(imgs)\n",
    "    \n",
    "            loss.backward()\n",
    "            optimizer.step()\n",
    "            training_loss += loss.item()\n",
    "            pbar.set_description(f\"loss for epoch {epoch}: {training_loss / (index + 1):.4f}\")\n",
    "        model.eval()\n",
    "        with torch.no_grad():\n",
    "            for index, (imgs, labels) in enumerate(val_dataloader):\n",
    "                imgs = imgs.to(device)\n",
    "                \n",
    "                loss = model(imgs)\n",
    "        \n",
    "                val_loss += loss.item()\n",
    "                if index == 0 and epoch % 10 == 0:\n",
    "                    x_t = model.sample(n_samples=16, size=imgs[0].shape)\n",
    "                    grid = make_grid(x_t, nrow=4)\n",
    "                    grid = transform_to_pil(grid).astype(np.uint8)\n",
    "                    grid_img = Image.fromarray(grid)\n",
    "                    grid_img.save(f\"sample_{epoch}.png\")\n",
    "\n",
    "        training_losses.append(training_loss / len(val_dataloader))\n",
    "        val_losses.append(val_loss / len(val_dataloader))\n",
    "    return training_losses, val_losses\n"
   ],
   "id": "c09faade9e8d9b03",
   "outputs": [],
   "execution_count": 7
  },
  {
   "metadata": {
    "ExecuteTime": {
     "end_time": "2025-02-16T07:27:51.893654Z",
     "start_time": "2025-02-16T07:27:51.884979Z"
    }
   },
   "cell_type": "code",
   "source": [
    "\n",
    "class MLP(nn.Module):\n",
    "    def __init__(self, input_dim: int, output_dim: int):\n",
    "        super().__init__()\n",
    "        self.ln = nn.Sequential(\n",
    "            nn.ReLU(),\n",
    "            nn.Linear(input_dim, output_dim),\n",
    "        )\n",
    "\n",
    "    def forward(self, x):\n",
    "        return self.ln(x)\n",
    "    \n",
    "class PositionalEmbedding(nn.Module):\n",
    "    def __init__(self, T: int, output_dim: int) -> None:\n",
    "        super().__init__()\n",
    "        self.output_dim = output_dim\n",
    "        position = torch.arange(T).unsqueeze(1)\n",
    "        div_term = torch.exp(torch.arange(0, output_dim, 2) * (-math.log(10000.0) / output_dim))\n",
    "        pe = torch.zeros(T, output_dim)\n",
    "        pe[:, 0::2] = torch.sin(position * div_term)\n",
    "        pe[:, 1::2] = torch.cos(position * div_term)\n",
    "        self.register_buffer('pe', pe)\n",
    "\n",
    "    def forward(self, x: torch.Tensor):\n",
    "        return self.pe[x].reshape(x.shape[0], self.output_dim)\n",
    "    \n",
    "class MultiheadAttention(nn.Module):\n",
    "    def __init__(self, n_heads: int, emb_dim: int, input_dim: int) -> None:\n",
    "        super().__init__()\n",
    "        assert emb_dim % n_heads == 0\n",
    "        head_dim = emb_dim // n_heads\n",
    "        self.K_W = nn.Parameter(torch.rand(n_heads, input_dim, head_dim))\n",
    "        self.K_b = nn.Parameter(torch.rand(n_heads, head_dim))\n",
    "        self.Q_W = nn.Parameter(torch.rand(n_heads, input_dim, head_dim))\n",
    "        self.Q_b = nn.Parameter(torch.rand(n_heads, head_dim))\n",
    "        self.V_W = nn.Parameter(torch.rand(n_heads, input_dim, head_dim))\n",
    "        self.V_b = nn.Parameter(torch.rand(n_heads, head_dim))\n",
    "        self.O_W = nn.Parameter(torch.rand(n_heads, head_dim, input_dim))\n",
    "        self.O_b = nn.Parameter(torch.rand(input_dim))\n",
    "        self.norm = nn.LayerNorm([input_dim])\n",
    "        self.mlp = nn.Sequential(\n",
    "            nn.LayerNorm([input_dim]),\n",
    "            nn.Linear(input_dim, input_dim),\n",
    "            nn.GELU(),\n",
    "            nn.Linear(input_dim, input_dim)\n",
    "        )\n",
    "\n",
    "    def forward(self, x, t):\n",
    "        _, input_dim, h, w = x.shape\n",
    "        x = einops.rearrange(x, \"b c h w -> b (h w) c\")\n",
    "        res = x\n",
    "        res = self.norm(x)\n",
    "        k = einops.einsum(res, self.K_W, \"b size ch, n_h ch h_dim -> b size n_h h_dim\")\n",
    "        k = k + self.K_b\n",
    "        q = einops.einsum(res, self.Q_W, \"b size ch, n_h ch h_dim -> b size n_h h_dim\")\n",
    "        q = q + self.Q_b\n",
    "        qk = einops.einsum(q, k, \"batch s1 n_h h_dim, batch s2 n_h h_dim -> batch n_h s1 s2\")\n",
    "        qk = qk / torch.sqrt(torch.tensor(input_dim, dtype=torch.float))\n",
    "        qk = qk.softmax(-1)\n",
    "        v = einops.einsum(res, self.V_W, \"b size ch, n_h ch h_dim -> b size n_h h_dim\")\n",
    "        v = v + self.V_b\n",
    "        res = einops.einsum(qk, v, \"batch n_h size size, batch size n_h h_dim -> batch size n_h h_dim\")\n",
    "        res = einops.einsum(res, self.O_W, \"batch size n_h h_dim, n_h h_dim ch -> batch size ch\")\n",
    "        res = res + self.O_b\n",
    "        res = res + x\n",
    "        res = self.mlp(res) + res\n",
    "        res = einops.rearrange(res, \"b (h w) c -> b c h w\", h=h, w=w)\n",
    "        return res\n",
    "\n",
    "class ResnetBlock(nn.Module):\n",
    "    def __init__(self, in_channels, out_channels, time_emb_dim, is_residual=False, is_debug=False):\n",
    "        super().__init__()\n",
    "        self.conv_1 = nn.Sequential(\n",
    "            nn.GroupNorm(8, in_channels),\n",
    "            nn.ReLU(),\n",
    "            nn.Conv2d(in_channels=in_channels, out_channels=out_channels, kernel_size=3, padding=1),\n",
    "        )\n",
    "        self.conv_2 = nn.Sequential(\n",
    "            nn.GroupNorm(8, out_channels),\n",
    "            nn.ReLU(),\n",
    "            nn.Conv2d(in_channels=out_channels, out_channels=out_channels, kernel_size=3, padding=1)\n",
    "        )\n",
    "        self.time_emb = MLP(input_dim=time_emb_dim, output_dim=out_channels)\n",
    "        if in_channels != out_channels:\n",
    "            self.conv_3 = nn.Conv2d(in_channels=in_channels, out_channels=out_channels, kernel_size=1)\n",
    "        else:\n",
    "            self.conv_3 = nn.Identity()\n",
    "        self.is_debug = is_debug\n",
    "        self.is_residual = is_residual\n",
    "\n",
    "    def forward(self, x, t):\n",
    "        h = self.conv_1(x)\n",
    "        if t is None:\n",
    "            return self.conv_3(x) + self.conv_2(h)\n",
    "        t = self.time_emb(t)\n",
    "        batch_size, emb_dim = t.shape \n",
    "        t = t.view(batch_size, emb_dim, 1, 1)\n",
    "        if self.is_residual:\n",
    "            return self.conv_3(x) + self.conv_2(h + t)\n",
    "        else:\n",
    "            return self.conv_2(h + t)\n",
    "        \n",
    "\n",
    "class DownBlock(nn.Module):\n",
    "    def __init__(self):\n",
    "        super().__init__()\n",
    "        self.pool = nn.AvgPool2d(kernel_size=2)\n",
    "    \n",
    "    def forward(self, x, t):\n",
    "        return self.pool(x)\n",
    "    \n",
    "class UpBlock(nn.Module):\n",
    "    def __init__(self, in_channels, out_channels):\n",
    "        super().__init__()\n",
    "        self.upscale = nn.ConvTranspose2d(in_channels=in_channels, out_channels=out_channels, kernel_size=2, stride=2)\n",
    "    \n",
    "    def forward(self, x, t):\n",
    "        return self.upscale(x)\n",
    "\n",
    "class SequenceWithTimeEmbedding(nn.Module):\n",
    "    def __init__(self, blocks):\n",
    "        super().__init__()\n",
    "        self.models = nn.ModuleList(blocks)\n",
    "    \n",
    "    def forward(self, x, t):\n",
    "        for model in self.models:\n",
    "            x = model(x, t)\n",
    "        return x"
   ],
   "id": "409b81be90c2e507",
   "outputs": [],
   "execution_count": 8
  },
  {
   "metadata": {
    "ExecuteTime": {
     "end_time": "2025-02-16T07:27:53.187780Z",
     "start_time": "2025-02-16T07:27:53.181447Z"
    }
   },
   "cell_type": "code",
   "source": [
    "\n",
    "class UNet(nn.Module):\n",
    "    def __init__(\n",
    "            self,\n",
    "            in_channels,\n",
    "            out_channels,\n",
    "            T,\n",
    "            steps=(1, 2, 4),\n",
    "            hid_size = 128,\n",
    "            attn_step_indexes = [1],\n",
    "            has_residuals=True,\n",
    "            num_resolution_blocks=2,\n",
    "            is_debug = False\n",
    "        ):\n",
    "        super().__init__()\n",
    "\n",
    "        time_emb_dim = hid_size * 4\n",
    "        self.time_embedding = nn.Sequential(\n",
    "            PositionalEmbedding(T=T, output_dim=hid_size),\n",
    "            nn.Linear(hid_size, time_emb_dim),\n",
    "            nn.ReLU(),\n",
    "            nn.Linear(time_emb_dim, time_emb_dim)\n",
    "        )\n",
    "\n",
    "        self.first_conv = nn.Conv2d(in_channels, steps[0] * hid_size, 3, padding=1)\n",
    "        self.down_blocks = nn.ModuleList()\n",
    "        prev_hid_size = steps[0] * hid_size\n",
    "        for (index, step) in enumerate(steps):\n",
    "            res_blocks = []\n",
    "            for block in range(num_resolution_blocks):\n",
    "                res_blocks.append(\n",
    "                    ResnetBlock(\n",
    "                        in_channels=prev_hid_size if block == 0 else step * hid_size,\n",
    "                        out_channels=step * hid_size,\n",
    "                        time_emb_dim=time_emb_dim,\n",
    "                        is_residual=has_residuals\n",
    "                    )\n",
    "                )\n",
    "                if step in attn_step_indexes:\n",
    "                    res_blocks.append(\n",
    "                        MultiheadAttention(\n",
    "                            n_heads=4,\n",
    "                            emb_dim=step * hid_size,\n",
    "                            input_dim=step * hid_size\n",
    "                        )\n",
    "                    )\n",
    "            self.down_blocks.append(\n",
    "                SequenceWithTimeEmbedding(res_blocks)\n",
    "            )\n",
    "            if index != len(steps) - 1:\n",
    "                self.down_blocks.append(DownBlock())\n",
    "            prev_hid_size = step * hid_size\n",
    "        if len(attn_step_indexes) > 0:\n",
    "            self.backbone = SequenceWithTimeEmbedding([\n",
    "                ResnetBlock(steps[-1] * hid_size, steps[-1] * hid_size, time_emb_dim=time_emb_dim),\n",
    "                MultiheadAttention(n_heads=4, emb_dim=steps[-1] * hid_size, input_dim=steps[-1] * hid_size),\n",
    "                ResnetBlock(steps[-1] * hid_size, steps[-1] * hid_size, time_emb_dim=time_emb_dim),\n",
    "            ])\n",
    "        else:\n",
    "            self.backbone = SequenceWithTimeEmbedding([\n",
    "                ResnetBlock(steps[-1] * hid_size, steps[-1] * hid_size, time_emb_dim=time_emb_dim),\n",
    "                ResnetBlock(steps[-1] * hid_size, steps[-1] * hid_size, time_emb_dim=time_emb_dim),\n",
    "            ])\n",
    "\n",
    "        self.up_blocks = nn.ModuleList()\n",
    "        reverse_steps = list(reversed(steps))\n",
    "        for (index, step) in enumerate(reverse_steps):\n",
    "            res_blocks = []\n",
    "            for block in range(num_resolution_blocks):\n",
    "                next_hid_size = reverse_steps[index + 1] * hid_size if index != len(steps) - 1 else step * hid_size\n",
    "                res_blocks.append(\n",
    "                    ResnetBlock(\n",
    "                        in_channels=prev_hid_size * 2 if block == 0 else next_hid_size,\n",
    "                        out_channels=next_hid_size,\n",
    "                        time_emb_dim=time_emb_dim,\n",
    "                        is_residual=has_residuals\n",
    "                    )\n",
    "                )\n",
    "                if len(reverse_steps) - index - 1 in attn_step_indexes:\n",
    "                    res_blocks.append(\n",
    "                        MultiheadAttention(\n",
    "                            n_heads=4,\n",
    "                            emb_dim=next_hid_size,\n",
    "                            input_dim=next_hid_size\n",
    "                        )\n",
    "                    )\n",
    "            self.up_blocks.append(\n",
    "                SequenceWithTimeEmbedding(res_blocks)\n",
    "            )\n",
    "            if index != len(steps) - 1:\n",
    "                self.up_blocks.append(UpBlock(next_hid_size, next_hid_size))\n",
    "            prev_hid_size = next_hid_size\n",
    "\n",
    "        self.is_debug = is_debug\n",
    "        self.out = nn.Sequential(*[\n",
    "            nn.GroupNorm(8, steps[0] * hid_size),\n",
    "            nn.ReLU(),\n",
    "            nn.Conv2d(in_channels=steps[0] * hid_size, out_channels=out_channels, kernel_size=3, stride=1, padding=1)\n",
    "        ])\n",
    "\n",
    "    def forward(self, x, t):\n",
    "        time_emb = self.time_embedding(t)\n",
    "\n",
    "        x = self.first_conv(x)\n",
    "        hx = []\n",
    "        for down_block in self.down_blocks:\n",
    "            x = down_block(x, time_emb)\n",
    "            if not isinstance(down_block, DownBlock):\n",
    "                hx.append(x)\n",
    "        x = self.backbone(x, time_emb)\n",
    "\n",
    "        ind = len(hx) - 1\n",
    "        for up_block in self.up_blocks:\n",
    "            if not isinstance(up_block, UpBlock):\n",
    "                x = up_block(torch.cat([x, hx[ind]], 1), time_emb)\n",
    "                ind -= 1\n",
    "            else:\n",
    "                x = up_block(x, time_emb)\n",
    "        x = self.out(x)\n",
    "\n",
    "        return x"
   ],
   "id": "c235be63a18b0e00",
   "outputs": [],
   "execution_count": 9
  },
  {
   "metadata": {
    "ExecuteTime": {
     "end_time": "2025-02-16T07:31:59.880164Z",
     "start_time": "2025-02-16T07:31:59.677428Z"
    }
   },
   "cell_type": "code",
   "source": [
    "T = 1000\n",
    "EPOCHS = 100\n",
    "device = \"cuda\" if torch.cuda.is_available() else \"cpu\"\n",
    "\n",
    "ddpm = DDPM(\n",
    "    T = T,\n",
    "    eps_model=UNet(\n",
    "        in_channels=3,\n",
    "        out_channels=3,\n",
    "        T=T+1,\n",
    "        steps=(1,2,2,2),\n",
    "        attn_step_indexes=[1,2]\n",
    "    ),\n",
    "    device=device\n",
    ")"
   ],
   "id": "1a405ff9b5ed2d7c",
   "outputs": [],
   "execution_count": 17
  },
  {
   "metadata": {
    "ExecuteTime": {
     "end_time": "2025-02-16T07:27:59.103562Z",
     "start_time": "2025-02-16T07:27:59.100876Z"
    }
   },
   "cell_type": "code",
   "source": [
    "\n",
    "\n",
    "def seed_everything(seed):   \n",
    "    random.seed(seed)\n",
    "    os.environ['PYTHONHASHSEED'] = str(seed)\n",
    "    np.random.seed(seed)\n",
    "    if seed is None:\n",
    "        torch.manual_seed(torch.initial_seed())\n",
    "        torch.cuda.manual_seed(torch.initial_seed())\n",
    "        torch.backends.cudnn.deterministic = False\n",
    "        torch.backends.cudnn.benchmark = False\n",
    "    else:\n",
    "        torch.manual_seed(seed)\n",
    "        torch.cuda.manual_seed(seed)\n",
    "        torch.backends.cudnn.deterministic = True\n",
    "        torch.backends.cudnn.benchmark = True\n"
   ],
   "id": "e52446240c35eed6",
   "outputs": [],
   "execution_count": 11
  },
  {
   "metadata": {},
   "cell_type": "code",
   "source": [
    "seed_everything(42)\n",
    "train_losses, val_losses = train(\n",
    "    model=ddpm,\n",
    "    optimizer=torch.optim.Adam(params=ddpm.parameters(), lr=2e-4),\n",
    "    epochs=EPOCHS,\n",
    "    device=device,\n",
    "    train_dataloader=train_dataloader,\n",
    "    val_dataloader=val_dataloader\n",
    ")\n",
    "\n",
    "# path = PATH_TO_SAVE_MODEL if PATH_TO_SAVE_MODEL is not None else \"model.pth\"\n",
    "# \n",
    "# torch.save(ddpm.state_dict(), f\"/home/debugwang/reproduce/diffusion_CIFR10/model/diffusion_lr_{2e-4}.pth\")\n",
    "plt.plot(train_losses, label=\"Train Loss\")\n",
    "plt.plot(val_losses, label=\"Validation Loss\")\n",
    "\n",
    "plt.legend()\n",
    "plt.show()\n"
   ],
   "id": "afaa6980643948e2",
   "outputs": [
    {
     "name": "stderr",
     "output_type": "stream",
     "text": [
      "loss for epoch 79: 0.0311: 100%|██████████| 782/782 [02:07<00:00,  6.15it/s]\n",
      "loss for epoch 80: 0.0308: 100%|██████████| 782/782 [02:06<00:00,  6.18it/s]\n",
      "loss for epoch 81: 0.0302: 100%|██████████| 782/782 [02:06<00:00,  6.17it/s]\n",
      "loss for epoch 82: 0.0306: 100%|██████████| 782/782 [02:06<00:00,  6.21it/s]\n",
      "loss for epoch 83: 0.0304: 100%|██████████| 782/782 [02:06<00:00,  6.20it/s]\n",
      "loss for epoch 84: 0.0305: 100%|██████████| 782/782 [02:06<00:00,  6.18it/s]\n",
      "loss for epoch 85: 0.0304: 100%|██████████| 782/782 [02:06<00:00,  6.18it/s]\n",
      "loss for epoch 86: 0.0301: 100%|██████████| 782/782 [02:05<00:00,  6.21it/s]\n",
      "loss for epoch 87: 0.0301: 100%|██████████| 782/782 [02:06<00:00,  6.19it/s]\n",
      "loss for epoch 88: 0.0304: 100%|██████████| 782/782 [02:06<00:00,  6.18it/s]\n",
      "loss for epoch 89: 0.0303: 100%|██████████| 782/782 [02:05<00:00,  6.21it/s]\n",
      "loss for epoch 90: 0.0309: 100%|██████████| 782/782 [02:06<00:00,  6.19it/s]\n",
      "loss for epoch 91: 0.0301: 100%|██████████| 782/782 [02:06<00:00,  6.20it/s]\n",
      "loss for epoch 92: 0.0303: 100%|██████████| 782/782 [02:05<00:00,  6.23it/s]\n",
      "loss for epoch 93: 0.0308: 100%|██████████| 782/782 [02:05<00:00,  6.23it/s]\n",
      "loss for epoch 94: 0.0307: 100%|██████████| 782/782 [02:05<00:00,  6.23it/s]\n",
      "loss for epoch 95: 0.0305: 100%|██████████| 782/782 [02:05<00:00,  6.21it/s]\n",
      "loss for epoch 96: 0.0302: 100%|██████████| 782/782 [02:06<00:00,  6.19it/s]\n",
      "loss for epoch 97: 0.0300: 100%|██████████| 782/782 [02:06<00:00,  6.18it/s]\n",
      "loss for epoch 98: 0.0302: 100%|██████████| 782/782 [02:05<00:00,  6.22it/s]\n",
      "loss for epoch 99: 0.0301: 100%|██████████| 782/782 [02:06<00:00,  6.19it/s]\n"
     ]
    },
    {
     "data": {
      "text/plain": [
       "<Figure size 640x480 with 1 Axes>"
      ],
      "image/png": "[encoded data removed]"
     },
     "metadata": {},
     "output_type": "display_data"
    }
   ],
   "execution_count": 26
  },
  {
   "metadata": {
    "ExecuteTime": {
     "end_time": "2025-02-16T07:32:22.142281Z",
     "start_time": "2025-02-16T07:32:21.996811Z"
    }
   },
   "cell_type": "code",
   "source": "ddpm.load_state_dict(torch.load(f\"/home/debugwang/reproduce/diffusion_CIFR10/model/diffusion_lr_{2e-4}.pth\"))",
   "id": "57cc13be12ef2bc5",
   "outputs": [
    {
     "name": "stderr",
     "output_type": "stream",
     "text": [
      "/tmp/ipykernel_157516/2841582597.py:1: FutureWarning: You are using `torch.load` with `weights_only=False` (the current default value), which uses the default pickle module implicitly. It is possible to construct malicious pickle data which will execute arbitrary code during unpickling (See https://github.com/pytorch/pytorch/blob/main/SECURITY.md#untrusted-models for more details). In a future release, the default value for `weights_only` will be flipped to `True`. This limits the functions that could be executed during unpickling. Arbitrary objects will no longer be allowed to be loaded via this mode unless they are explicitly allowlisted by the user via `torch.serialization.add_safe_globals`. We recommend you start setting `weights_only=True` for any use case where you don't have full control of the loaded file. Please open an issue on GitHub for any issues related to this experimental feature.\n",
      "  ddpm.load_state_dict(torch.load(f\"/home/debugwang/reproduce/diffusion_CIFR10/model/diffusion_lr_{2e-4}.pth\"))\n"
     ]
    },
    {
     "data": {
      "text/plain": [
       "<All keys matched successfully>"
      ]
     },
     "execution_count": 19,
     "metadata": {},
     "output_type": "execute_result"
    }
   ],
   "execution_count": 19
  },
  {
   "metadata": {
    "ExecuteTime": {
     "end_time": "2025-02-16T08:08:19.127407Z",
     "start_time": "2025-02-16T08:08:04.054796Z"
    }
   },
   "cell_type": "code",
   "source": [
    "n_samples = 16\n",
    "x_t = ddpm.sample(n_samples=n_samples, size=train_dataset[0][0].shape)\n",
    "\n",
    "grid = make_grid(x_t, nrow=4)\n",
    "grid = transform_to_pil(grid).astype(np.uint8)\n",
    "fig = plt.figure(figsize=(8, 8))\n",
    "plt.imshow(grid)\n",
    "plt.show()"
   ],
   "id": "39c53699432c3941",
   "outputs": [
    {
     "data": {
      "text/plain": [
       "<Figure size 800x800 with 1 Axes>"
      ],
      "image/png": "[encoded data removed]"
     },
     "metadata": {},
     "output_type": "display_data"
    }
   ],
   "execution_count": 30
  },
  {
   "metadata": {},
   "cell_type": "markdown",
   "source": "316.1005572222162",
   "id": "d663a3c6c24305d3"
  },
  {
   "metadata": {},
   "cell_type": "code",
   "outputs": [],
   "execution_count": null,
   "source": "",
   "id": "7fd362e34933e4e2"
  }
 ],
 "metadata": {
  "kernelspec": {
   "display_name": "Python 3",
   "language": "python",
   "name": "python3"
  },
  "language_info": {
   "codemirror_mode": {
    "name": "ipython",
    "version": 2
   },
   "file_extension": ".py",
   "mimetype": "text/x-python",
   "name": "python",
   "nbconvert_exporter": "python",
   "pygments_lexer": "ipython2",
   "version": "2.7.6"
  }
 },
 "nbformat": 4,
 "nbformat_minor": 5
}
