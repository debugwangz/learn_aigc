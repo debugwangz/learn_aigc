{
 "cells": [
  {
   "cell_type": "code",
   "id": "initial_id",
   "metadata": {
    "collapsed": true,
    "ExecuteTime": {
     "end_time": "2025-06-04T09:53:50.385416Z",
     "start_time": "2025-06-04T09:53:50.377951Z"
    }
   },
   "source": [
    "from scipy.io import loadmat\n",
    "from torch.utils.data import Dataset\n",
    "from torch import nn\n",
    "import torch\n",
    "from torch.utils.data import DataLoader\n",
    "import numpy as np\n",
    "import random\n",
    "import torchvision.utils as vutils\n",
    "import matplotlib.pyplot as plt\n",
    "from VAE import ConvVAE, get_model_size"
   ],
   "outputs": [],
   "execution_count": 17
  },
  {
   "metadata": {
    "ExecuteTime": {
     "end_time": "2025-06-04T09:45:39.685047Z",
     "start_time": "2025-06-04T09:45:39.549015Z"
    }
   },
   "cell_type": "code",
   "source": [
    "def set_seed(seed):\n",
    "    random.seed(seed)\n",
    "    np.random.seed(seed)\n",
    "    torch.manual_seed(seed)\n",
    "    if torch.cuda.is_available():\n",
    "        torch.cuda.manual_seed(seed)\n",
    "        torch.cuda.manual_seed_all(seed)\n",
    "    torch.backends.cudnn.deterministic = True\n",
    "    torch.backends.cudnn.benchmark = False\n",
    "\n",
    "# Set the seed\n",
    "set_seed(42)"
   ],
   "id": "854c666e2194d99b",
   "outputs": [],
   "execution_count": 2
  },
  {
   "metadata": {
    "ExecuteTime": {
     "end_time": "2025-06-04T09:45:40.029606Z",
     "start_time": "2025-06-04T09:45:39.860412Z"
    }
   },
   "cell_type": "code",
   "source": [
    "mnist = loadmat(\"../mnist-original.mat/mnist-original.mat\")\n",
    "mnist_data = mnist[\"data\"].T\n",
    "mnist_label = mnist[\"label\"][0]"
   ],
   "id": "ead7b9a06567ed04",
   "outputs": [],
   "execution_count": 3
  },
  {
   "metadata": {
    "ExecuteTime": {
     "end_time": "2025-06-04T09:45:40.102290Z",
     "start_time": "2025-06-04T09:45:40.044198Z"
    }
   },
   "cell_type": "code",
   "source": "plt.imshow(mnist_data[0].reshape(28, 28), cmap=\"gray\")",
   "id": "89d8514a224e9abd",
   "outputs": [
    {
     "data": {
      "text/plain": [
       "<matplotlib.image.AxesImage at 0x7f0f8f7783a0>"
      ]
     },
     "execution_count": 4,
     "metadata": {},
     "output_type": "execute_result"
    },
    {
     "data": {
      "text/plain": [
       "<Figure size 640x480 with 1 Axes>"
      ],
      "image/png": "[encoded data removed]"
     },
     "metadata": {},
     "output_type": "display_data"
    }
   ],
   "execution_count": 4
  },
  {
   "metadata": {
    "ExecuteTime": {
     "end_time": "2025-06-04T09:45:40.218540Z",
     "start_time": "2025-06-04T09:45:40.216014Z"
    }
   },
   "cell_type": "code",
   "source": [
    "from torchvision import transforms\n",
    "transform = transforms.Compose([\n",
    "    transforms.Lambda(lambda x: x.reshape(28, 28)),\n",
    "    transforms.ToTensor(),\n",
    "    transforms.Pad((2, 2, 2, 2))  # Pad to 32x32\n",
    "])"
   ],
   "id": "857b8fe60ade8913",
   "outputs": [],
   "execution_count": 5
  },
  {
   "metadata": {
    "ExecuteTime": {
     "end_time": "2025-06-04T09:45:40.280045Z",
     "start_time": "2025-06-04T09:45:40.277079Z"
    }
   },
   "cell_type": "code",
   "source": [
    "class MNISTDataset(Dataset):\n",
    "    def __init__(self, data, label, transform=None):\n",
    "        self.data = data\n",
    "        self.label = label\n",
    "        self.transform = transform\n",
    "    def __len__(self):\n",
    "        return len(self.data)\n",
    "\n",
    "    def __getitem__(self, idx):\n",
    "        return self.transform(self.data[idx]), self.label[idx]"
   ],
   "id": "5c06199900bd446",
   "outputs": [],
   "execution_count": 6
  },
  {
   "metadata": {
    "ExecuteTime": {
     "end_time": "2025-06-04T09:45:40.700460Z",
     "start_time": "2025-06-04T09:45:40.697727Z"
    }
   },
   "cell_type": "code",
   "source": "device = 'cuda' if torch.cuda.is_available() else 'cpu'\n",
   "id": "8ef3fa9b14698f20",
   "outputs": [],
   "execution_count": 8
  },
  {
   "metadata": {},
   "cell_type": "code",
   "outputs": [],
   "execution_count": null,
   "source": [
    "EPOCHS = 100\n",
    "batch_size = 64\n",
    "num_workers = 8\n",
    "T = 1000\n",
    "lr = 1e-3\n",
    "latent_dim = 16\n",
    "lamda = 0.1"
   ],
   "id": "79f934204f484c1a"
  },
  {
   "metadata": {
    "ExecuteTime": {
     "end_time": "2025-06-04T09:45:43.547017Z",
     "start_time": "2025-06-04T09:45:41.069698Z"
    }
   },
   "cell_type": "code",
   "outputs": [
    {
     "name": "stderr",
     "output_type": "stream",
     "text": [
      "\u001B[34m\u001B[1mwandb\u001B[0m: Currently logged in as: \u001B[33mdebugzwang\u001B[0m (\u001B[33mdebugzwang-none\u001B[0m) to \u001B[32mhttps://api.wandb.ai\u001B[0m. Use \u001B[1m`wandb login --relogin`\u001B[0m to force relogin\n"
     ]
    },
    {
     "data": {
      "text/plain": [
       "<IPython.core.display.HTML object>"
      ],
      "text/html": [
       "Tracking run with wandb version 0.19.11"
      ]
     },
     "metadata": {},
     "output_type": "display_data"
    },
    {
     "data": {
      "text/plain": [
       "<IPython.core.display.HTML object>"
      ],
      "text/html": [
       "Run data is saved locally in <code>/mnt/d/learn_aigc/VAE/wandb/run-20250604_174542-em2m8kw6</code>"
      ]
     },
     "metadata": {},
     "output_type": "display_data"
    },
    {
     "data": {
      "text/plain": [
       "<IPython.core.display.HTML object>"
      ],
      "text/html": [
       "Syncing run <strong><a href='https://wandb.ai/debugzwang-none/debugzwang-none/runs/em2m8kw6' target=\"_blank\">vae_mnist</a></strong> to <a href='https://wandb.ai/debugzwang-none/debugzwang-none' target=\"_blank\">Weights & Biases</a> (<a href='https://wandb.me/developer-guide' target=\"_blank\">docs</a>)<br>"
      ]
     },
     "metadata": {},
     "output_type": "display_data"
    },
    {
     "data": {
      "text/plain": [
       "<IPython.core.display.HTML object>"
      ],
      "text/html": [
       " View project at <a href='https://wandb.ai/debugzwang-none/debugzwang-none' target=\"_blank\">https://wandb.ai/debugzwang-none/debugzwang-none</a>"
      ]
     },
     "metadata": {},
     "output_type": "display_data"
    },
    {
     "data": {
      "text/plain": [
       "<IPython.core.display.HTML object>"
      ],
      "text/html": [
       " View run at <a href='https://wandb.ai/debugzwang-none/debugzwang-none/runs/em2m8kw6' target=\"_blank\">https://wandb.ai/debugzwang-none/debugzwang-none/runs/em2m8kw6</a>"
      ]
     },
     "metadata": {},
     "output_type": "display_data"
    }
   ],
   "execution_count": 9,
   "source": [
    "import wandb\n",
    "wandb.login()\n",
    "\n",
    "run =  wandb.init(\n",
    "    project=\"debugzwang-none\",\n",
    "    # entity=\"mnist_diffusion\",\n",
    "    name=\"vae_mnist\",\n",
    "    config={\n",
    "        \"epochs\": EPOCHS,\n",
    "        \"batch_size\": batch_size,\n",
    "        \"num_workers\": num_workers,\n",
    "        \"T\": T,\n",
    "        \"lr\": lr,\n",
    "        \"latent_dim\": latent_dim,\n",
    "        \"lambda\": lamda,\n",
    "    }\n",
    ")"
   ],
   "id": "2b176ed9c3c03a90"
  },
  {
   "metadata": {
    "ExecuteTime": {
     "end_time": "2025-06-04T09:45:43.688629Z",
     "start_time": "2025-06-04T09:45:43.553749Z"
    }
   },
   "cell_type": "code",
   "source": [
    "model = ConvVAE(latent_dim).to(device)\n",
    "model_size = get_model_size(model)\n",
    "print(f'model size: {model_size*4/1024/1024}M')"
   ],
   "id": "e02235501fdd5ff",
   "outputs": [
    {
     "name": "stdout",
     "output_type": "stream",
     "text": [
      "model size: 5.780887603759766M\n"
     ]
    }
   ],
   "execution_count": 10
  },
  {
   "metadata": {
    "ExecuteTime": {
     "end_time": "2025-06-04T09:45:43.765093Z",
     "start_time": "2025-06-04T09:45:43.758792Z"
    }
   },
   "cell_type": "code",
   "source": [
    "def loss_function(recon_x, x, mu, logvar, lamda=1):\n",
    "    rec_loss = nn.functional.mse_loss(recon_x, x, reduction='sum')\n",
    "    # rec_loss = nn.BCELoss(reduction='sum')(recon_x, x)\n",
    "    KLD = -0.5 * torch.sum(1 + logvar - mu.pow(2) - logvar.exp())\n",
    "    return rec_loss + lamda*KLD, rec_loss.item(), lamda * KLD.item()\n",
    "def train(\n",
    "        model: ConvVAE,\n",
    "        optimizer: torch.optim.Optimizer,\n",
    "        epochs: int,\n",
    "        device: str,\n",
    "        train_dataloader: DataLoader,\n",
    "        val_dataloader: DataLoader,\n",
    "        lamda: float = 0.1,\n",
    "):\n",
    "    # training_losses = []\n",
    "    # val_losses = []\n",
    "    for epoch in range(epochs):\n",
    "        print(f\"Epoch {epoch+1}/{epochs}\")\n",
    "        model.eval()\n",
    "        val_loss = 0\n",
    "        val_rec_loss = 0\n",
    "        val_kl_loss = 0\n",
    "        with torch.no_grad():\n",
    "            for index, (imgs, labels) in enumerate(val_dataloader):\n",
    "                imgs = imgs.to(device)\n",
    "                recon_data, mu, logvar = model(imgs)\n",
    "                loss, rec_loss, kl_loss = loss_function(recon_data, imgs, mu, logvar, lamda)    \n",
    "                val_loss += loss.item()\n",
    "                val_rec_loss += rec_loss\n",
    "                val_kl_loss += kl_loss\n",
    "                if index == 0 and epoch % 10 == 0:\n",
    "                    test_data = torch.randn(1, 1, latent_dim).to(device)  # 修改第一维度为16\n",
    "                    output = model.decode(test_data)\n",
    "                    images = [wandb.Image(output[i].squeeze(0).cpu().numpy()) for i in range(1)]\n",
    "                    wandb.log({\"batch_images\": images})\n",
    "        model.train(True)\n",
    "        training_loss = 0\n",
    "        training_rec_loss = 0\n",
    "        training_kl_loss = 0\n",
    "        for index, (imgs, labels) in enumerate(train_dataloader):\n",
    "            optimizer.zero_grad()\n",
    "            \n",
    "            imgs = imgs.to(device)\n",
    "            recon_data, mu, logvar = model(imgs)\n",
    "            loss, rec_loss, kl_loss = loss_function(recon_data, imgs, mu, logvar, lamda)    \n",
    "            loss.backward()\n",
    "            optimizer.step()\n",
    "            training_loss += loss.item()\n",
    "            training_rec_loss += rec_loss\n",
    "            training_kl_loss += kl_loss\n",
    "        wandb.log({\n",
    "            \"epoch\": epoch,\n",
    "            \"training_loss\": training_loss / len(train_dataloader),\n",
    "            \"training_rec_loss\": training_rec_loss / len(train_dataloader),\n",
    "            \"training_kl_loss\": training_kl_loss / len(train_dataloader),\n",
    "            \"val_loss\": val_loss / len(val_dataloader),\n",
    "            \"val_rec_loss\": val_rec_loss / len(val_dataloader),\n",
    "            \"val_kl_loss\": val_kl_loss / len(val_dataloader),\n",
    "        })\n",
    "    # return training_losses, val_losses"
   ],
   "id": "658e752a02030941",
   "outputs": [],
   "execution_count": 12
  },
  {
   "metadata": {
    "ExecuteTime": {
     "end_time": "2025-06-04T09:45:45.149500Z",
     "start_time": "2025-06-04T09:45:45.141222Z"
    }
   },
   "cell_type": "code",
   "source": [
    "from torch.utils.data import random_split\n",
    "\n",
    "# Assuming mnist_data and mnist_label are already defined\n",
    "dataset = MNISTDataset(mnist_data, mnist_label, transform=transform)\n",
    "\n",
    "# Define the lengths for training and validation sets\n",
    "train_size = 50000\n",
    "val_size = 10000\n",
    "# train_size = 500\n",
    "# val_size = 100\n",
    "test_size = len(dataset) - train_size - val_size\n",
    "# Split the dataset\n",
    "train_dataset, val_dataset, test_dataset = random_split(dataset, [train_size, val_size, test_size])\n",
    "\n",
    "# Now you can use train_dataset and val_dataset with DataLoader\n",
    "train_loader = DataLoader(train_dataset, batch_size=batch_size, num_workers=num_workers, shuffle=True)\n",
    "val_loader = DataLoader(val_dataset, batch_size=batch_size, num_workers=num_workers, shuffle=False)\n",
    "test_loader = DataLoader(test_dataset, batch_size=batch_size, num_workers=num_workers, shuffle=False)"
   ],
   "id": "9cb0547368bc3225",
   "outputs": [],
   "execution_count": 13
  },
  {
   "metadata": {
    "ExecuteTime": {
     "end_time": "2025-06-04T09:51:50.466233Z",
     "start_time": "2025-06-04T09:45:45.599738Z"
    }
   },
   "cell_type": "code",
   "source": [
    "train(\n",
    "    model=model,\n",
    "    optimizer=torch.optim.Adam(params=model.parameters(), lr=lr),\n",
    "    epochs=EPOCHS,\n",
    "    device=device,\n",
    "    train_dataloader=train_loader,\n",
    "    val_dataloader=val_loader,\n",
    "    lamda=lamda\n",
    ")"
   ],
   "id": "323073fbb2c1269e",
   "outputs": [
    {
     "name": "stdout",
     "output_type": "stream",
     "text": [
      "Epoch 1/100\n",
      "Epoch 2/100\n",
      "Epoch 3/100\n",
      "Epoch 4/100\n",
      "Epoch 5/100\n",
      "Epoch 6/100\n",
      "Epoch 7/100\n",
      "Epoch 8/100\n",
      "Epoch 9/100\n",
      "Epoch 10/100\n",
      "Epoch 11/100\n",
      "Epoch 12/100\n",
      "Epoch 13/100\n",
      "Epoch 14/100\n",
      "Epoch 15/100\n",
      "Epoch 16/100\n",
      "Epoch 17/100\n",
      "Epoch 18/100\n",
      "Epoch 19/100\n",
      "Epoch 20/100\n",
      "Epoch 21/100\n",
      "Epoch 22/100\n",
      "Epoch 23/100\n",
      "Epoch 24/100\n",
      "Epoch 25/100\n",
      "Epoch 26/100\n",
      "Epoch 27/100\n",
      "Epoch 28/100\n",
      "Epoch 29/100\n",
      "Epoch 30/100\n",
      "Epoch 31/100\n",
      "Epoch 32/100\n",
      "Epoch 33/100\n",
      "Epoch 34/100\n",
      "Epoch 35/100\n",
      "Epoch 36/100\n",
      "Epoch 37/100\n",
      "Epoch 38/100\n",
      "Epoch 39/100\n",
      "Epoch 40/100\n",
      "Epoch 41/100\n",
      "Epoch 42/100\n",
      "Epoch 43/100\n",
      "Epoch 44/100\n",
      "Epoch 45/100\n",
      "Epoch 46/100\n",
      "Epoch 47/100\n",
      "Epoch 48/100\n",
      "Epoch 49/100\n",
      "Epoch 50/100\n",
      "Epoch 51/100\n",
      "Epoch 52/100\n",
      "Epoch 53/100\n",
      "Epoch 54/100\n",
      "Epoch 55/100\n",
      "Epoch 56/100\n",
      "Epoch 57/100\n",
      "Epoch 58/100\n",
      "Epoch 59/100\n",
      "Epoch 60/100\n",
      "Epoch 61/100\n",
      "Epoch 62/100\n",
      "Epoch 63/100\n",
      "Epoch 64/100\n",
      "Epoch 65/100\n",
      "Epoch 66/100\n",
      "Epoch 67/100\n",
      "Epoch 68/100\n",
      "Epoch 69/100\n",
      "Epoch 70/100\n",
      "Epoch 71/100\n",
      "Epoch 72/100\n",
      "Epoch 73/100\n",
      "Epoch 74/100\n",
      "Epoch 75/100\n",
      "Epoch 76/100\n",
      "Epoch 77/100\n",
      "Epoch 78/100\n",
      "Epoch 79/100\n",
      "Epoch 80/100\n",
      "Epoch 81/100\n",
      "Epoch 82/100\n",
      "Epoch 83/100\n",
      "Epoch 84/100\n",
      "Epoch 85/100\n",
      "Epoch 86/100\n",
      "Epoch 87/100\n",
      "Epoch 88/100\n",
      "Epoch 89/100\n",
      "Epoch 90/100\n",
      "Epoch 91/100\n",
      "Epoch 92/100\n",
      "Epoch 93/100\n",
      "Epoch 94/100\n",
      "Epoch 95/100\n",
      "Epoch 96/100\n",
      "Epoch 97/100\n",
      "Epoch 98/100\n",
      "Epoch 99/100\n",
      "Epoch 100/100\n"
     ]
    }
   ],
   "execution_count": 14
  },
  {
   "metadata": {
    "ExecuteTime": {
     "end_time": "2025-06-04T09:52:05.064703Z",
     "start_time": "2025-06-04T09:52:05.060875Z"
    }
   },
   "cell_type": "code",
   "source": [
    "def show_images(images):\n",
    "    grid = vutils.make_grid(images, nrow=4, padding=2, normalize=True)\n",
    "    plt.figure(figsize=(8,8))\n",
    "    plt.imshow(grid.permute(1, 2, 0).cpu(), cmap='gray')  # 调整维度顺序\n",
    "    plt.axis('off')\n",
    "    plt.show()\n",
    "    plt.close()"
   ],
   "id": "181c7d278fd1e09",
   "outputs": [],
   "execution_count": 15
  },
  {
   "metadata": {
    "ExecuteTime": {
     "end_time": "2025-06-04T09:52:05.368820Z",
     "start_time": "2025-06-04T09:52:05.275639Z"
    }
   },
   "cell_type": "code",
   "source": [
    "\n",
    "# 修改输入数据维度为16\n",
    "test_data = torch.randn(16, 1, latent_dim).to(device)  # 修改第一维度为16\n",
    "\n",
    "with torch.no_grad():\n",
    "    model.eval()\n",
    "    output = model.decode(test_data)\n",
    "    show_images(output)\n"
   ],
   "id": "49c5b245d71b3e1c",
   "outputs": [
    {
     "data": {
      "text/plain": [
       "<Figure size 800x800 with 1 Axes>"
      ],
      "image/png": "[encoded data removed]"
     },
     "metadata": {},
     "output_type": "display_data"
    }
   ],
   "execution_count": 16
  },
  {
   "metadata": {
    "ExecuteTime": {
     "end_time": "2025-06-04T10:00:45.351786Z",
     "start_time": "2025-06-04T10:00:45.320482Z"
    }
   },
   "cell_type": "code",
   "source": "torch.save(model.state_dict(), f\"/mnt/d/data/mnist_model/vae_lr_{lr}_epoch_{EPOCHS}_latent{latent_dim}_lambda_{lamda}.pth\")",
   "id": "5a025bfc5ef40392",
   "outputs": [],
   "execution_count": 21
  },
  {
   "metadata": {
    "ExecuteTime": {
     "end_time": "2025-02-27T14:03:24.298131Z",
     "start_time": "2025-02-27T14:03:24.296327Z"
    }
   },
   "cell_type": "code",
   "source": "",
   "id": "2c02ee4b8ab933fb",
   "outputs": [],
   "execution_count": null
  }
 ],
 "metadata": {
  "kernelspec": {
   "display_name": "Python 3",
   "language": "python",
   "name": "python3"
  },
  "language_info": {
   "codemirror_mode": {
    "name": "ipython",
    "version": 2
   },
   "file_extension": ".py",
   "mimetype": "text/x-python",
   "name": "python",
   "nbconvert_exporter": "python",
   "pygments_lexer": "ipython2",
   "version": "2.7.6"
  }
 },
 "nbformat": 4,
 "nbformat_minor": 5
}
